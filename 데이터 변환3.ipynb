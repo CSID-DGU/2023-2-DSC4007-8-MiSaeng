{
 "cells": [
  {
   "cell_type": "code",
   "execution_count": 1,
   "metadata": {},
   "outputs": [],
   "source": [
    "import networkx as nx\n",
    "import pandas as pd"
   ]
  },
  {
   "cell_type": "markdown",
   "metadata": {},
   "source": [
    "# Definitions\n"
   ]
  },
  {
   "cell_type": "code",
   "execution_count": 2,
   "metadata": {},
   "outputs": [
    {
     "name": "stdout",
     "output_type": "stream",
     "text": [
      "Gene : Protein-coding human genes. From Entrez Gene.\n",
      "Compound : Approved small molecule compounds with documented chemical structures. From DrugBank.\n",
      "Disease : Complex diseases, selected to be distinct and specific enough to be clinically relevant yet general enough to be well annotated. From Disease Ontology.\n"
     ]
    }
   ],
   "source": [
    "definitions = pd.read_json('../../definitions.json', typ='split')\n",
    "using_nodes = [\"Gene\",\"Compound\",\"Disease\"]\n",
    "\n",
    "#metanodes -\"Gene\",\"Compound\",\"Disease\"\n",
    "for node in using_nodes:\n",
    "    print(f'{node} : {definitions[\"metanodes\"].get(node)}')"
   ]
  },
  {
   "cell_type": "code",
   "execution_count": 3,
   "metadata": {},
   "outputs": [],
   "source": [
    "not_using_nodes = [node for node in definitions[\"metanodes\"].keys() if node not in using_nodes]"
   ]
  },
  {
   "cell_type": "code",
   "execution_count": 4,
   "metadata": {},
   "outputs": [
    {
     "name": "stdout",
     "output_type": "stream",
     "text": [
      "Compound–binds–Gene : The Compound physically binds to the Gene's protein product according to BindingDB, DrugBank, or DrugCentral \n",
      "\n",
      "Compound–downregulates–Gene : The Gene is under-expressed in samples exposed to the Compound according to a consensus signature from LINCS L1000 \n",
      "\n",
      "Compound–palliates–Disease : The Compound is a symptomatic indication for the Disease (i.e. the Compound treats a significant symptom of the Disease) according to PharmacotherapyDB \n",
      "\n",
      "Compound–resembles–Compound : The Compounds are chemical similar to each other: Their extended connectivity fingerprints have a Dice coefficient ≥ 0.5. \n",
      "\n",
      "Compound–treats–Disease : The Compound is a disease-modifying indication for the Disease (i.e. the Compound therapeutically changes the underlying or downstream biology of the Disease) according to PharmacotherapyDB \n",
      "\n",
      "Compound–upregulates–Gene : The Gene is over-expressed in samples exposed to the Compound according to a consensus signature from LINCS L1000 \n",
      "\n",
      "Disease–associates–Gene : The Gene is associated with the Gene according to GWAS Catalog, DISEASES, DisGeNET, or DOAF \n",
      "\n",
      "Disease–downregulates–Gene : The Gene is under-expressed in Disease samples according to a STARGEO meta-analysis \n",
      "\n",
      "Disease–resembles–Disease : Two Diseases are similar as inferred by co-occurrence in MEDLINE abstracts \n",
      "\n",
      "Disease–upregulates–Gene : The Gene is over-expressed in Disease samples according to a STARGEO meta-analysis \n",
      "\n",
      "Gene–covaries–Gene : Two genes have similar evolutionary histories in mammals, according to Evolutionary Rate Covariation ≥ 0.7 (Priedigkeit et al, 2015) \n",
      "\n",
      "Gene–interacts–Gene : The genes produce physically-interacting proteins in humans according to the Human Reference Protein Interactome Mapping Project, the Incomplete Interactome, or other PPI databases previously used by Hetio \n",
      "\n",
      "Gene→regulates→Gene : Knockdown or over-expression of the source Gene significantly dysregulated the target Gene according to a consensus signature from LINCS L1000 genetic interference screens \n",
      "\n"
     ]
    }
   ],
   "source": [
    "using_edges = []\n",
    "\n",
    "for edge in definitions[\"metaedges\"].keys():\n",
    "    e = edge.split('–')\n",
    "    if (e[0] not in not_using_nodes) and (e[-1] not in not_using_nodes):\n",
    "        using_edges.append(edge.replace('–',' - '))\n",
    "        print(f'{edge} : {definitions[\"metaedges\"].get(edge)}','\\n')"
   ]
  },
  {
   "cell_type": "markdown",
   "metadata": {},
   "source": [
    "# nodes\n"
   ]
  },
  {
   "cell_type": "code",
   "execution_count": 5,
   "metadata": {},
   "outputs": [
    {
     "data": {
      "text/html": [
       "<div>\n",
       "<style scoped>\n",
       "    .dataframe tbody tr th:only-of-type {\n",
       "        vertical-align: middle;\n",
       "    }\n",
       "\n",
       "    .dataframe tbody tr th {\n",
       "        vertical-align: top;\n",
       "    }\n",
       "\n",
       "    .dataframe thead th {\n",
       "        text-align: right;\n",
       "    }\n",
       "</style>\n",
       "<table border=\"1\" class=\"dataframe\">\n",
       "  <thead>\n",
       "    <tr style=\"text-align: right;\">\n",
       "      <th></th>\n",
       "      <th>metanode</th>\n",
       "      <th>abbreviation</th>\n",
       "      <th>metaedges</th>\n",
       "      <th>nodes</th>\n",
       "      <th>unconnected_nodes</th>\n",
       "    </tr>\n",
       "  </thead>\n",
       "  <tbody>\n",
       "    <tr>\n",
       "      <th>3</th>\n",
       "      <td>Compound</td>\n",
       "      <td>C</td>\n",
       "      <td>8</td>\n",
       "      <td>1552</td>\n",
       "      <td>14</td>\n",
       "    </tr>\n",
       "    <tr>\n",
       "      <th>4</th>\n",
       "      <td>Disease</td>\n",
       "      <td>D</td>\n",
       "      <td>8</td>\n",
       "      <td>137</td>\n",
       "      <td>1</td>\n",
       "    </tr>\n",
       "    <tr>\n",
       "      <th>5</th>\n",
       "      <td>Gene</td>\n",
       "      <td>G</td>\n",
       "      <td>16</td>\n",
       "      <td>20945</td>\n",
       "      <td>1800</td>\n",
       "    </tr>\n",
       "  </tbody>\n",
       "</table>\n",
       "</div>"
      ],
      "text/plain": [
       "   metanode abbreviation  metaedges  nodes  unconnected_nodes\n",
       "3  Compound            C          8   1552                 14\n",
       "4   Disease            D          8    137                  1\n",
       "5      Gene            G         16  20945               1800"
      ]
     },
     "execution_count": 5,
     "metadata": {},
     "output_type": "execute_result"
    }
   ],
   "source": [
    "metanodes = pd.read_csv('../../metanodes.tsv', sep='\\t')\n",
    "metanodes.query('metanode in @using_nodes')"
   ]
  },
  {
   "cell_type": "code",
   "execution_count": 6,
   "metadata": {},
   "outputs": [],
   "source": [
    "nodes = pd.read_csv('../../hetionet-v1.0-nodes.tsv', sep='\\t')\n",
    "cancer_nodes = nodes[(nodes['kind'] == 'Disease') & nodes['name'].str.contains('cancer')]\n",
    "cancer_nodes = list(cancer_nodes['id'])"
   ]
  },
  {
   "cell_type": "code",
   "execution_count": 7,
   "metadata": {},
   "outputs": [],
   "source": [
    "nodes.query('kind in @using_nodes', inplace=True)\n",
    "\n",
    "# nodes['id'] = nodes['id'].str.split('::').str[-1]"
   ]
  },
  {
   "cell_type": "code",
   "execution_count": 8,
   "metadata": {},
   "outputs": [
    {
     "data": {
      "text/html": [
       "<div>\n",
       "<style scoped>\n",
       "    .dataframe tbody tr th:only-of-type {\n",
       "        vertical-align: middle;\n",
       "    }\n",
       "\n",
       "    .dataframe tbody tr th {\n",
       "        vertical-align: top;\n",
       "    }\n",
       "\n",
       "    .dataframe thead th {\n",
       "        text-align: right;\n",
       "    }\n",
       "</style>\n",
       "<table border=\"1\" class=\"dataframe\">\n",
       "  <thead>\n",
       "    <tr style=\"text-align: right;\">\n",
       "      <th></th>\n",
       "      <th>id</th>\n",
       "      <th>name</th>\n",
       "      <th>kind</th>\n",
       "    </tr>\n",
       "  </thead>\n",
       "  <tbody>\n",
       "    <tr>\n",
       "      <th>13174</th>\n",
       "      <td>Compound::DB00014</td>\n",
       "      <td>Goserelin</td>\n",
       "      <td>Compound</td>\n",
       "    </tr>\n",
       "    <tr>\n",
       "      <th>13175</th>\n",
       "      <td>Compound::DB00035</td>\n",
       "      <td>Desmopressin</td>\n",
       "      <td>Compound</td>\n",
       "    </tr>\n",
       "    <tr>\n",
       "      <th>13176</th>\n",
       "      <td>Compound::DB00050</td>\n",
       "      <td>Cetrorelix</td>\n",
       "      <td>Compound</td>\n",
       "    </tr>\n",
       "    <tr>\n",
       "      <th>13177</th>\n",
       "      <td>Compound::DB00091</td>\n",
       "      <td>Cyclosporine</td>\n",
       "      <td>Compound</td>\n",
       "    </tr>\n",
       "    <tr>\n",
       "      <th>13178</th>\n",
       "      <td>Compound::DB00093</td>\n",
       "      <td>Felypressin</td>\n",
       "      <td>Compound</td>\n",
       "    </tr>\n",
       "    <tr>\n",
       "      <th>...</th>\n",
       "      <td>...</td>\n",
       "      <td>...</td>\n",
       "      <td>...</td>\n",
       "    </tr>\n",
       "    <tr>\n",
       "      <th>35803</th>\n",
       "      <td>Gene::9991</td>\n",
       "      <td>PTBP3</td>\n",
       "      <td>Gene</td>\n",
       "    </tr>\n",
       "    <tr>\n",
       "      <th>35804</th>\n",
       "      <td>Gene::9992</td>\n",
       "      <td>KCNE2</td>\n",
       "      <td>Gene</td>\n",
       "    </tr>\n",
       "    <tr>\n",
       "      <th>35805</th>\n",
       "      <td>Gene::9993</td>\n",
       "      <td>DGCR2</td>\n",
       "      <td>Gene</td>\n",
       "    </tr>\n",
       "    <tr>\n",
       "      <th>35806</th>\n",
       "      <td>Gene::9994</td>\n",
       "      <td>CASP8AP2</td>\n",
       "      <td>Gene</td>\n",
       "    </tr>\n",
       "    <tr>\n",
       "      <th>35807</th>\n",
       "      <td>Gene::9997</td>\n",
       "      <td>SCO2</td>\n",
       "      <td>Gene</td>\n",
       "    </tr>\n",
       "  </tbody>\n",
       "</table>\n",
       "<p>22634 rows × 3 columns</p>\n",
       "</div>"
      ],
      "text/plain": [
       "                      id          name      kind\n",
       "13174  Compound::DB00014     Goserelin  Compound\n",
       "13175  Compound::DB00035  Desmopressin  Compound\n",
       "13176  Compound::DB00050    Cetrorelix  Compound\n",
       "13177  Compound::DB00091  Cyclosporine  Compound\n",
       "13178  Compound::DB00093   Felypressin  Compound\n",
       "...                  ...           ...       ...\n",
       "35803         Gene::9991         PTBP3      Gene\n",
       "35804         Gene::9992         KCNE2      Gene\n",
       "35805         Gene::9993         DGCR2      Gene\n",
       "35806         Gene::9994      CASP8AP2      Gene\n",
       "35807         Gene::9997          SCO2      Gene\n",
       "\n",
       "[22634 rows x 3 columns]"
      ]
     },
     "execution_count": 8,
     "metadata": {},
     "output_type": "execute_result"
    }
   ],
   "source": [
    "nodes\n",
    "\n",
    "#### id is the node identifier prepended with the node type plus :: as a separator. \n",
    "#### name is the node name. \n",
    "#### kind is the node type."
   ]
  },
  {
   "cell_type": "markdown",
   "metadata": {},
   "source": [
    "# edges"
   ]
  },
  {
   "cell_type": "code",
   "execution_count": 9,
   "metadata": {},
   "outputs": [
    {
     "data": {
      "text/html": [
       "<div>\n",
       "<style scoped>\n",
       "    .dataframe tbody tr th:only-of-type {\n",
       "        vertical-align: middle;\n",
       "    }\n",
       "\n",
       "    .dataframe tbody tr th {\n",
       "        vertical-align: top;\n",
       "    }\n",
       "\n",
       "    .dataframe thead th {\n",
       "        text-align: right;\n",
       "    }\n",
       "</style>\n",
       "<table border=\"1\" class=\"dataframe\">\n",
       "  <thead>\n",
       "    <tr style=\"text-align: right;\">\n",
       "      <th></th>\n",
       "      <th>metaedge</th>\n",
       "      <th>abbreviation</th>\n",
       "      <th>edges</th>\n",
       "      <th>source_nodes</th>\n",
       "      <th>target_nodes</th>\n",
       "      <th>unbiased</th>\n",
       "    </tr>\n",
       "  </thead>\n",
       "  <tbody>\n",
       "    <tr>\n",
       "      <th>3</th>\n",
       "      <td>Compound - binds - Gene</td>\n",
       "      <td>CbG</td>\n",
       "      <td>11571</td>\n",
       "      <td>1389</td>\n",
       "      <td>1689</td>\n",
       "      <td>0</td>\n",
       "    </tr>\n",
       "    <tr>\n",
       "      <th>5</th>\n",
       "      <td>Compound - downregulates - Gene</td>\n",
       "      <td>CdG</td>\n",
       "      <td>21102</td>\n",
       "      <td>734</td>\n",
       "      <td>2880</td>\n",
       "      <td>21102</td>\n",
       "    </tr>\n",
       "    <tr>\n",
       "      <th>6</th>\n",
       "      <td>Compound - palliates - Disease</td>\n",
       "      <td>CpD</td>\n",
       "      <td>390</td>\n",
       "      <td>221</td>\n",
       "      <td>50</td>\n",
       "      <td>0</td>\n",
       "    </tr>\n",
       "    <tr>\n",
       "      <th>7</th>\n",
       "      <td>Compound - resembles - Compound</td>\n",
       "      <td>CrC</td>\n",
       "      <td>6486</td>\n",
       "      <td>1042</td>\n",
       "      <td>1054</td>\n",
       "      <td>6486</td>\n",
       "    </tr>\n",
       "    <tr>\n",
       "      <th>8</th>\n",
       "      <td>Compound - treats - Disease</td>\n",
       "      <td>CtD</td>\n",
       "      <td>755</td>\n",
       "      <td>387</td>\n",
       "      <td>77</td>\n",
       "      <td>0</td>\n",
       "    </tr>\n",
       "    <tr>\n",
       "      <th>9</th>\n",
       "      <td>Compound - upregulates - Gene</td>\n",
       "      <td>CuG</td>\n",
       "      <td>18756</td>\n",
       "      <td>703</td>\n",
       "      <td>3247</td>\n",
       "      <td>18756</td>\n",
       "    </tr>\n",
       "    <tr>\n",
       "      <th>10</th>\n",
       "      <td>Disease - associates - Gene</td>\n",
       "      <td>DaG</td>\n",
       "      <td>12623</td>\n",
       "      <td>134</td>\n",
       "      <td>5392</td>\n",
       "      <td>1284</td>\n",
       "    </tr>\n",
       "    <tr>\n",
       "      <th>11</th>\n",
       "      <td>Disease - downregulates - Gene</td>\n",
       "      <td>DdG</td>\n",
       "      <td>7623</td>\n",
       "      <td>44</td>\n",
       "      <td>5745</td>\n",
       "      <td>7623</td>\n",
       "    </tr>\n",
       "    <tr>\n",
       "      <th>14</th>\n",
       "      <td>Disease - resembles - Disease</td>\n",
       "      <td>DrD</td>\n",
       "      <td>543</td>\n",
       "      <td>112</td>\n",
       "      <td>106</td>\n",
       "      <td>0</td>\n",
       "    </tr>\n",
       "    <tr>\n",
       "      <th>15</th>\n",
       "      <td>Disease - upregulates - Gene</td>\n",
       "      <td>DuG</td>\n",
       "      <td>7731</td>\n",
       "      <td>44</td>\n",
       "      <td>5630</td>\n",
       "      <td>7731</td>\n",
       "    </tr>\n",
       "    <tr>\n",
       "      <th>16</th>\n",
       "      <td>Gene - covaries - Gene</td>\n",
       "      <td>GcG</td>\n",
       "      <td>61690</td>\n",
       "      <td>9043</td>\n",
       "      <td>9532</td>\n",
       "      <td>61690</td>\n",
       "    </tr>\n",
       "    <tr>\n",
       "      <th>17</th>\n",
       "      <td>Gene - interacts - Gene</td>\n",
       "      <td>GiG</td>\n",
       "      <td>147164</td>\n",
       "      <td>9526</td>\n",
       "      <td>14084</td>\n",
       "      <td>15517</td>\n",
       "    </tr>\n",
       "    <tr>\n",
       "      <th>22</th>\n",
       "      <td>Gene &gt; regulates &gt; Gene</td>\n",
       "      <td>Gr&gt;G</td>\n",
       "      <td>265672</td>\n",
       "      <td>4634</td>\n",
       "      <td>7048</td>\n",
       "      <td>265672</td>\n",
       "    </tr>\n",
       "  </tbody>\n",
       "</table>\n",
       "</div>"
      ],
      "text/plain": [
       "                           metaedge abbreviation   edges  source_nodes  \\\n",
       "3           Compound - binds - Gene          CbG   11571          1389   \n",
       "5   Compound - downregulates - Gene          CdG   21102           734   \n",
       "6    Compound - palliates - Disease          CpD     390           221   \n",
       "7   Compound - resembles - Compound          CrC    6486          1042   \n",
       "8       Compound - treats - Disease          CtD     755           387   \n",
       "9     Compound - upregulates - Gene          CuG   18756           703   \n",
       "10      Disease - associates - Gene          DaG   12623           134   \n",
       "11   Disease - downregulates - Gene          DdG    7623            44   \n",
       "14    Disease - resembles - Disease          DrD     543           112   \n",
       "15     Disease - upregulates - Gene          DuG    7731            44   \n",
       "16           Gene - covaries - Gene          GcG   61690          9043   \n",
       "17          Gene - interacts - Gene          GiG  147164          9526   \n",
       "22          Gene > regulates > Gene         Gr>G  265672          4634   \n",
       "\n",
       "    target_nodes  unbiased  \n",
       "3           1689         0  \n",
       "5           2880     21102  \n",
       "6             50         0  \n",
       "7           1054      6486  \n",
       "8             77         0  \n",
       "9           3247     18756  \n",
       "10          5392      1284  \n",
       "11          5745      7623  \n",
       "14           106         0  \n",
       "15          5630      7731  \n",
       "16          9532     61690  \n",
       "17         14084     15517  \n",
       "22          7048    265672  "
      ]
     },
     "execution_count": 9,
     "metadata": {},
     "output_type": "execute_result"
    }
   ],
   "source": [
    "metaedges = pd.read_csv('../../metaedges.tsv', sep='\\t')\n",
    "metaedges.query('metaedge in @using_edges | metaedge == \"Gene > regulates > Gene\"',inplace=True)\n",
    "metaedges"
   ]
  },
  {
   "cell_type": "code",
   "execution_count": 10,
   "metadata": {},
   "outputs": [],
   "source": [
    "edge_file = '../../edges.sif'\n",
    "edges = pd.read_csv(edge_file, sep='\\t',)"
   ]
  },
  {
   "cell_type": "code",
   "execution_count": 11,
   "metadata": {},
   "outputs": [
    {
     "data": {
      "text/html": [
       "<div>\n",
       "<style scoped>\n",
       "    .dataframe tbody tr th:only-of-type {\n",
       "        vertical-align: middle;\n",
       "    }\n",
       "\n",
       "    .dataframe tbody tr th {\n",
       "        vertical-align: top;\n",
       "    }\n",
       "\n",
       "    .dataframe thead th {\n",
       "        text-align: right;\n",
       "    }\n",
       "</style>\n",
       "<table border=\"1\" class=\"dataframe\">\n",
       "  <thead>\n",
       "    <tr style=\"text-align: right;\">\n",
       "      <th></th>\n",
       "      <th>metaedge_x</th>\n",
       "      <th>abbreviation</th>\n",
       "      <th>source</th>\n",
       "      <th>target</th>\n",
       "    </tr>\n",
       "  </thead>\n",
       "  <tbody>\n",
       "    <tr>\n",
       "      <th>0</th>\n",
       "      <td>Compound - binds - Gene</td>\n",
       "      <td>CbG</td>\n",
       "      <td>Compound::DB00514</td>\n",
       "      <td>Gene::1136</td>\n",
       "    </tr>\n",
       "    <tr>\n",
       "      <th>1</th>\n",
       "      <td>Compound - binds - Gene</td>\n",
       "      <td>CbG</td>\n",
       "      <td>Compound::DB00686</td>\n",
       "      <td>Gene::2246</td>\n",
       "    </tr>\n",
       "    <tr>\n",
       "      <th>2</th>\n",
       "      <td>Compound - binds - Gene</td>\n",
       "      <td>CbG</td>\n",
       "      <td>Compound::DB00786</td>\n",
       "      <td>Gene::4317</td>\n",
       "    </tr>\n",
       "    <tr>\n",
       "      <th>3</th>\n",
       "      <td>Compound - binds - Gene</td>\n",
       "      <td>CbG</td>\n",
       "      <td>Compound::DB01209</td>\n",
       "      <td>Gene::4988</td>\n",
       "    </tr>\n",
       "    <tr>\n",
       "      <th>4</th>\n",
       "      <td>Compound - binds - Gene</td>\n",
       "      <td>CbG</td>\n",
       "      <td>Compound::DB01588</td>\n",
       "      <td>Gene::2560</td>\n",
       "    </tr>\n",
       "    <tr>\n",
       "      <th>...</th>\n",
       "      <td>...</td>\n",
       "      <td>...</td>\n",
       "      <td>...</td>\n",
       "      <td>...</td>\n",
       "    </tr>\n",
       "    <tr>\n",
       "      <th>562101</th>\n",
       "      <td>Gene &gt; regulates &gt; Gene</td>\n",
       "      <td>Gr&gt;G</td>\n",
       "      <td>Gene::5184</td>\n",
       "      <td>Gene::8659</td>\n",
       "    </tr>\n",
       "    <tr>\n",
       "      <th>562102</th>\n",
       "      <td>Gene &gt; regulates &gt; Gene</td>\n",
       "      <td>Gr&gt;G</td>\n",
       "      <td>Gene::22818</td>\n",
       "      <td>Gene::5613</td>\n",
       "    </tr>\n",
       "    <tr>\n",
       "      <th>562103</th>\n",
       "      <td>Gene &gt; regulates &gt; Gene</td>\n",
       "      <td>Gr&gt;G</td>\n",
       "      <td>Gene::29888</td>\n",
       "      <td>Gene::5467</td>\n",
       "    </tr>\n",
       "    <tr>\n",
       "      <th>562104</th>\n",
       "      <td>Gene &gt; regulates &gt; Gene</td>\n",
       "      <td>Gr&gt;G</td>\n",
       "      <td>Gene::5894</td>\n",
       "      <td>Gene::595</td>\n",
       "    </tr>\n",
       "    <tr>\n",
       "      <th>562105</th>\n",
       "      <td>Gene &gt; regulates &gt; Gene</td>\n",
       "      <td>Gr&gt;G</td>\n",
       "      <td>Gene::6584</td>\n",
       "      <td>Gene::4864</td>\n",
       "    </tr>\n",
       "  </tbody>\n",
       "</table>\n",
       "<p>562106 rows × 4 columns</p>\n",
       "</div>"
      ],
      "text/plain": [
       "                     metaedge_x abbreviation             source      target\n",
       "0       Compound - binds - Gene          CbG  Compound::DB00514  Gene::1136\n",
       "1       Compound - binds - Gene          CbG  Compound::DB00686  Gene::2246\n",
       "2       Compound - binds - Gene          CbG  Compound::DB00786  Gene::4317\n",
       "3       Compound - binds - Gene          CbG  Compound::DB01209  Gene::4988\n",
       "4       Compound - binds - Gene          CbG  Compound::DB01588  Gene::2560\n",
       "...                         ...          ...                ...         ...\n",
       "562101  Gene > regulates > Gene         Gr>G         Gene::5184  Gene::8659\n",
       "562102  Gene > regulates > Gene         Gr>G        Gene::22818  Gene::5613\n",
       "562103  Gene > regulates > Gene         Gr>G        Gene::29888  Gene::5467\n",
       "562104  Gene > regulates > Gene         Gr>G         Gene::5894   Gene::595\n",
       "562105  Gene > regulates > Gene         Gr>G         Gene::6584  Gene::4864\n",
       "\n",
       "[562106 rows x 4 columns]"
      ]
     },
     "execution_count": 11,
     "metadata": {},
     "output_type": "execute_result"
    }
   ],
   "source": [
    "edges = pd.merge(metaedges[['metaedge','abbreviation']], edges, left_on='abbreviation', right_on='metaedge')\n",
    "edges.drop('metaedge_y', axis=1, inplace=True)\n",
    "edges"
   ]
  },
  {
   "cell_type": "code",
   "execution_count": 12,
   "metadata": {},
   "outputs": [
    {
     "data": {
      "text/html": [
       "<div>\n",
       "<style scoped>\n",
       "    .dataframe tbody tr th:only-of-type {\n",
       "        vertical-align: middle;\n",
       "    }\n",
       "\n",
       "    .dataframe tbody tr th {\n",
       "        vertical-align: top;\n",
       "    }\n",
       "\n",
       "    .dataframe thead th {\n",
       "        text-align: right;\n",
       "    }\n",
       "</style>\n",
       "<table border=\"1\" class=\"dataframe\">\n",
       "  <thead>\n",
       "    <tr style=\"text-align: right;\">\n",
       "      <th></th>\n",
       "      <th>metaedge_x</th>\n",
       "      <th>abbreviation</th>\n",
       "      <th>source</th>\n",
       "      <th>target</th>\n",
       "    </tr>\n",
       "  </thead>\n",
       "  <tbody>\n",
       "    <tr>\n",
       "      <th>32689</th>\n",
       "      <td>Compound - palliates - Disease</td>\n",
       "      <td>CpD</td>\n",
       "      <td>Compound::DB00741</td>\n",
       "      <td>Disease::DOID:263</td>\n",
       "    </tr>\n",
       "    <tr>\n",
       "      <th>32717</th>\n",
       "      <td>Compound - palliates - Disease</td>\n",
       "      <td>CpD</td>\n",
       "      <td>Compound::DB00443</td>\n",
       "      <td>Disease::DOID:1319</td>\n",
       "    </tr>\n",
       "    <tr>\n",
       "      <th>32722</th>\n",
       "      <td>Compound - palliates - Disease</td>\n",
       "      <td>CpD</td>\n",
       "      <td>Compound::DB00813</td>\n",
       "      <td>Disease::DOID:10283</td>\n",
       "    </tr>\n",
       "    <tr>\n",
       "      <th>32734</th>\n",
       "      <td>Compound - palliates - Disease</td>\n",
       "      <td>CpD</td>\n",
       "      <td>Compound::DB00673</td>\n",
       "      <td>Disease::DOID:219</td>\n",
       "    </tr>\n",
       "    <tr>\n",
       "      <th>32737</th>\n",
       "      <td>Compound - palliates - Disease</td>\n",
       "      <td>CpD</td>\n",
       "      <td>Compound::DB00443</td>\n",
       "      <td>Disease::DOID:1612</td>\n",
       "    </tr>\n",
       "    <tr>\n",
       "      <th>...</th>\n",
       "      <td>...</td>\n",
       "      <td>...</td>\n",
       "      <td>...</td>\n",
       "      <td>...</td>\n",
       "    </tr>\n",
       "    <tr>\n",
       "      <th>87556</th>\n",
       "      <td>Disease - upregulates - Gene</td>\n",
       "      <td>DuG</td>\n",
       "      <td>Disease::DOID:263</td>\n",
       "      <td>Gene::157</td>\n",
       "    </tr>\n",
       "    <tr>\n",
       "      <th>87567</th>\n",
       "      <td>Disease - upregulates - Gene</td>\n",
       "      <td>DuG</td>\n",
       "      <td>Disease::DOID:1793</td>\n",
       "      <td>Gene::1520</td>\n",
       "    </tr>\n",
       "    <tr>\n",
       "      <th>87574</th>\n",
       "      <td>Disease - upregulates - Gene</td>\n",
       "      <td>DuG</td>\n",
       "      <td>Disease::DOID:219</td>\n",
       "      <td>Gene::717</td>\n",
       "    </tr>\n",
       "    <tr>\n",
       "      <th>87576</th>\n",
       "      <td>Disease - upregulates - Gene</td>\n",
       "      <td>DuG</td>\n",
       "      <td>Disease::DOID:1324</td>\n",
       "      <td>Gene::60625</td>\n",
       "    </tr>\n",
       "    <tr>\n",
       "      <th>87579</th>\n",
       "      <td>Disease - upregulates - Gene</td>\n",
       "      <td>DuG</td>\n",
       "      <td>Disease::DOID:263</td>\n",
       "      <td>Gene::857</td>\n",
       "    </tr>\n",
       "  </tbody>\n",
       "</table>\n",
       "<p>8016 rows × 4 columns</p>\n",
       "</div>"
      ],
      "text/plain": [
       "                           metaedge_x abbreviation              source  \\\n",
       "32689  Compound - palliates - Disease          CpD   Compound::DB00741   \n",
       "32717  Compound - palliates - Disease          CpD   Compound::DB00443   \n",
       "32722  Compound - palliates - Disease          CpD   Compound::DB00813   \n",
       "32734  Compound - palliates - Disease          CpD   Compound::DB00673   \n",
       "32737  Compound - palliates - Disease          CpD   Compound::DB00443   \n",
       "...                               ...          ...                 ...   \n",
       "87556    Disease - upregulates - Gene          DuG   Disease::DOID:263   \n",
       "87567    Disease - upregulates - Gene          DuG  Disease::DOID:1793   \n",
       "87574    Disease - upregulates - Gene          DuG   Disease::DOID:219   \n",
       "87576    Disease - upregulates - Gene          DuG  Disease::DOID:1324   \n",
       "87579    Disease - upregulates - Gene          DuG   Disease::DOID:263   \n",
       "\n",
       "                    target  \n",
       "32689    Disease::DOID:263  \n",
       "32717   Disease::DOID:1319  \n",
       "32722  Disease::DOID:10283  \n",
       "32734    Disease::DOID:219  \n",
       "32737   Disease::DOID:1612  \n",
       "...                    ...  \n",
       "87556            Gene::157  \n",
       "87567           Gene::1520  \n",
       "87574            Gene::717  \n",
       "87576          Gene::60625  \n",
       "87579            Gene::857  \n",
       "\n",
       "[8016 rows x 4 columns]"
      ]
     },
     "execution_count": 12,
     "metadata": {},
     "output_type": "execute_result"
    }
   ],
   "source": [
    "import pandas as pd\n",
    "\n",
    "# 필터링 조건\n",
    "condition = ((edges['source'].isin(cancer_nodes)) | (edges['target'].isin(cancer_nodes)))\n",
    "\n",
    "# 조건에 맞는 행 선택\n",
    "selected_edges = edges[condition]\n",
    "\n",
    "# 결과 출력\n",
    "selected_edges"
   ]
  },
  {
   "cell_type": "code",
   "execution_count": 13,
   "metadata": {},
   "outputs": [],
   "source": [
    "compound = list(set(selected_edges.loc[selected_edges['source'].str.contains('Compound'), 'source'].tolist() +\n",
    "                      selected_edges.loc[selected_edges['target'].str.contains('Compound'), 'target'].tolist()))\n",
    "\n",
    "disease = list(set(selected_edges.loc[selected_edges['source'].str.contains('Disease'), 'source'].tolist() +\n",
    "                     selected_edges.loc[selected_edges['target'].str.contains('Disease'), 'target'].tolist()))\n",
    "\n",
    "gene = list(set(selected_edges.loc[selected_edges['source'].str.contains('Gene'), 'source'].tolist() +\n",
    "                  selected_edges.loc[selected_edges['target'].str.contains('Gene'), 'target'].tolist()))"
   ]
  },
  {
   "cell_type": "markdown",
   "metadata": {},
   "source": [
    "# label"
   ]
  },
  {
   "cell_type": "code",
   "execution_count": 14,
   "metadata": {},
   "outputs": [],
   "source": [
    "connected_compound_disease = selected_edges[(selected_edges['source'].str.contains('Compound')) & (selected_edges['target'].str.contains('Disease'))]"
   ]
  },
  {
   "cell_type": "code",
   "execution_count": 15,
   "metadata": {},
   "outputs": [
    {
     "name": "stderr",
     "output_type": "stream",
     "text": [
      "C:\\Users\\young\\AppData\\Local\\Temp\\ipykernel_13656\\278530246.py:1: SettingWithCopyWarning: \n",
      "A value is trying to be set on a copy of a slice from a DataFrame\n",
      "\n",
      "See the caveats in the documentation: https://pandas.pydata.org/pandas-docs/stable/user_guide/indexing.html#returning-a-view-versus-a-copy\n",
      "  connected_compound_disease.drop(['metaedge_x', 'abbreviation'],axis=1, inplace=True)\n"
     ]
    }
   ],
   "source": [
    "connected_compound_disease.drop(['metaedge_x', 'abbreviation'],axis=1, inplace=True)\n",
    "connected_compound_disease = connected_compound_disease.assign(label = 1)"
   ]
  },
  {
   "cell_type": "code",
   "execution_count": 16,
   "metadata": {},
   "outputs": [],
   "source": [
    "connected_compound_disease_list = list(zip(connected_compound_disease['source'],connected_compound_disease['target']))"
   ]
  },
  {
   "cell_type": "markdown",
   "metadata": {},
   "source": [
    "# 그래프 생성"
   ]
  },
  {
   "cell_type": "code",
   "execution_count": 17,
   "metadata": {},
   "outputs": [],
   "source": [
    "import networkx as nx\n",
    "\n",
    "G = nx.Graph()\n",
    "\n",
    "G.add_nodes_from(compound,group='compound', weight=2)\n",
    "G.add_nodes_from(gene,group='gene', weight=1)\n",
    "G.add_nodes_from(disease,group='disease', weight=2)"
   ]
  },
  {
   "cell_type": "code",
   "execution_count": 18,
   "metadata": {},
   "outputs": [],
   "source": [
    "# 엣지 추가 및 가중치 부여\n",
    "for _, edge in selected_edges.iterrows():\n",
    "    source = edge['source']\n",
    "    target = edge['target']\n",
    "    weight = 2 if G.nodes[source]['group'] == 'compound' and G.nodes[target]['group'] == 'disease' else 1\n",
    "    G.add_edge(source, target, weight=weight)"
   ]
  },
  {
   "cell_type": "code",
   "execution_count": 19,
   "metadata": {},
   "outputs": [
    {
     "name": "stdout",
     "output_type": "stream",
     "text": [
      "{'weight': 1}\n"
     ]
    }
   ],
   "source": [
    "print(G['Disease::DOID:1612']['Gene::1894'])"
   ]
  },
  {
   "cell_type": "code",
   "execution_count": 20,
   "metadata": {},
   "outputs": [
    {
     "name": "stdout",
     "output_type": "stream",
     "text": [
      "{'weight': 2}\n"
     ]
    }
   ],
   "source": [
    "print(G['Compound::DB00443']['Disease::DOID:1612'])"
   ]
  },
  {
   "cell_type": "markdown",
   "metadata": {},
   "source": [
    "# Node2Vec"
   ]
  },
  {
   "cell_type": "code",
   "execution_count": 21,
   "metadata": {},
   "outputs": [
    {
     "data": {
      "application/vnd.jupyter.widget-view+json": {
       "model_id": "38bbe01f44464908a390da508b88ffdf",
       "version_major": 2,
       "version_minor": 0
      },
      "text/plain": [
       "Computing transition probabilities:   0%|          | 0/4883 [00:00<?, ?it/s]"
      ]
     },
     "metadata": {},
     "output_type": "display_data"
    }
   ],
   "source": [
    "from node2vec import Node2Vec\n",
    "\n",
    "# Node2Vec 모델 생성 및 학습\n",
    "node2vec = Node2Vec(G, dimensions=30, walk_length=30, num_walks=200, workers=4, p=2.0, q=0.5)\n",
    "model = node2vec.fit(window=10, min_count=1)"
   ]
  },
  {
   "cell_type": "code",
   "execution_count": 22,
   "metadata": {},
   "outputs": [
    {
     "name": "stdout",
     "output_type": "stream",
     "text": [
      "Embedding for Node:, Compound::DB00361, \n",
      " [ 0.6125722   0.22930686 -0.18371962 -0.20176305  0.5099951  -0.26662916\n",
      "  0.13620166 -0.02282675 -0.3186554   0.26035315  0.08740851  0.17812112\n",
      "  0.0383952   0.26966882 -0.38725954 -0.14621405 -0.25683358  0.15728457\n",
      "  0.2618387   0.14236705  0.45874694  0.3365907  -0.5332693   0.19072777\n",
      " -0.07150028  0.02554516 -0.22732973 -0.12291616  0.05416191  0.11762757]\n"
     ]
    }
   ],
   "source": [
    "# 노드 임베딩 확인\n",
    "embedding = model.wv[compound[0]]\n",
    "print(f'Embedding for Node:, {compound[0]}, \\n {embedding}')"
   ]
  },
  {
   "cell_type": "code",
   "execution_count": 23,
   "metadata": {},
   "outputs": [
    {
     "name": "stdout",
     "output_type": "stream",
     "text": [
      "Embedding for Node:, Disease::DOID:10763, \n",
      " [ 0.8054713  -0.36560965  0.33648324 -0.7766002  -0.09257153  0.7886297\n",
      " -0.28613365 -0.45867148 -0.5574316   0.25753453 -0.04204815  0.4191156\n",
      " -0.02646895 -0.01680054 -0.16162987  0.9876188   0.0980572  -0.15084109\n",
      " -0.31228954  0.27784756  0.39167723  0.67226666  0.26141635  0.15188244\n",
      " -0.6001563   0.17770508 -0.22615327 -0.69726986  0.14285089 -0.6436128 ]\n"
     ]
    }
   ],
   "source": [
    "embedding = model.wv[disease[0]]\n",
    "print(f'Embedding for Node:, {disease[0]}, \\n {embedding}')"
   ]
  },
  {
   "cell_type": "markdown",
   "metadata": {},
   "source": [
    "# 데이터"
   ]
  },
  {
   "cell_type": "code",
   "execution_count": 24,
   "metadata": {},
   "outputs": [
    {
     "data": {
      "text/html": [
       "<div>\n",
       "<style scoped>\n",
       "    .dataframe tbody tr th:only-of-type {\n",
       "        vertical-align: middle;\n",
       "    }\n",
       "\n",
       "    .dataframe tbody tr th {\n",
       "        vertical-align: top;\n",
       "    }\n",
       "\n",
       "    .dataframe thead th {\n",
       "        text-align: right;\n",
       "    }\n",
       "</style>\n",
       "<table border=\"1\" class=\"dataframe\">\n",
       "  <thead>\n",
       "    <tr style=\"text-align: right;\">\n",
       "      <th></th>\n",
       "      <th>source</th>\n",
       "      <th>target</th>\n",
       "      <th>label</th>\n",
       "    </tr>\n",
       "  </thead>\n",
       "  <tbody>\n",
       "    <tr>\n",
       "      <th>0</th>\n",
       "      <td>Compound::DB00361</td>\n",
       "      <td>Disease::DOID:10763</td>\n",
       "      <td>0.0</td>\n",
       "    </tr>\n",
       "    <tr>\n",
       "      <th>1</th>\n",
       "      <td>Compound::DB00361</td>\n",
       "      <td>Disease::DOID:1964</td>\n",
       "      <td>0.0</td>\n",
       "    </tr>\n",
       "    <tr>\n",
       "      <th>2</th>\n",
       "      <td>Compound::DB00361</td>\n",
       "      <td>Disease::DOID:12306</td>\n",
       "      <td>0.0</td>\n",
       "    </tr>\n",
       "    <tr>\n",
       "      <th>3</th>\n",
       "      <td>Compound::DB00361</td>\n",
       "      <td>Disease::DOID:585</td>\n",
       "      <td>0.0</td>\n",
       "    </tr>\n",
       "    <tr>\n",
       "      <th>4</th>\n",
       "      <td>Compound::DB00361</td>\n",
       "      <td>Disease::DOID:11054</td>\n",
       "      <td>0.0</td>\n",
       "    </tr>\n",
       "    <tr>\n",
       "      <th>...</th>\n",
       "      <td>...</td>\n",
       "      <td>...</td>\n",
       "      <td>...</td>\n",
       "    </tr>\n",
       "    <tr>\n",
       "      <th>9115</th>\n",
       "      <td>Compound::DB00291</td>\n",
       "      <td>Disease::DOID:1192</td>\n",
       "      <td>0.0</td>\n",
       "    </tr>\n",
       "    <tr>\n",
       "      <th>9116</th>\n",
       "      <td>Compound::DB00291</td>\n",
       "      <td>Disease::DOID:5612</td>\n",
       "      <td>0.0</td>\n",
       "    </tr>\n",
       "    <tr>\n",
       "      <th>9117</th>\n",
       "      <td>Compound::DB00291</td>\n",
       "      <td>Disease::DOID:4362</td>\n",
       "      <td>0.0</td>\n",
       "    </tr>\n",
       "    <tr>\n",
       "      <th>9118</th>\n",
       "      <td>Compound::DB00291</td>\n",
       "      <td>Disease::DOID:11819</td>\n",
       "      <td>0.0</td>\n",
       "    </tr>\n",
       "    <tr>\n",
       "      <th>9119</th>\n",
       "      <td>Compound::DB00291</td>\n",
       "      <td>Disease::DOID:363</td>\n",
       "      <td>0.0</td>\n",
       "    </tr>\n",
       "  </tbody>\n",
       "</table>\n",
       "<p>9120 rows × 3 columns</p>\n",
       "</div>"
      ],
      "text/plain": [
       "                 source               target  label\n",
       "0     Compound::DB00361  Disease::DOID:10763    0.0\n",
       "1     Compound::DB00361   Disease::DOID:1964    0.0\n",
       "2     Compound::DB00361  Disease::DOID:12306    0.0\n",
       "3     Compound::DB00361    Disease::DOID:585    0.0\n",
       "4     Compound::DB00361  Disease::DOID:11054    0.0\n",
       "...                 ...                  ...    ...\n",
       "9115  Compound::DB00291   Disease::DOID:1192    0.0\n",
       "9116  Compound::DB00291   Disease::DOID:5612    0.0\n",
       "9117  Compound::DB00291   Disease::DOID:4362    0.0\n",
       "9118  Compound::DB00291  Disease::DOID:11819    0.0\n",
       "9119  Compound::DB00291    Disease::DOID:363    0.0\n",
       "\n",
       "[9120 rows x 3 columns]"
      ]
     },
     "execution_count": 24,
     "metadata": {},
     "output_type": "execute_result"
    }
   ],
   "source": [
    "#cartesian product\n",
    "df1 = pd.DataFrame({'source':compound})\n",
    "df2 = pd.DataFrame({'target':disease})\n",
    "\n",
    "compound_disease = pd.merge(df1.assign(key=1),df2.assign(key=1), on='key').drop('key', axis=1)\n",
    "\n",
    "#label\n",
    "compound_disease = pd.merge(compound_disease, connected_compound_disease, how='outer')\n",
    "compound_disease = compound_disease.fillna(0)\n",
    "compound_disease"
   ]
  },
  {
   "cell_type": "code",
   "execution_count": 25,
   "metadata": {},
   "outputs": [],
   "source": [
    "compound_disease_label = []\n",
    "for com in compound:\n",
    "    for dis in disease:\n",
    "        val = []\n",
    "        val.append(com)\n",
    "        val.append(dis)\n",
    "        tup = (com,dis)\n",
    "        if tup in connected_compound_disease_list:\n",
    "            val.append(1)\n",
    "        else:\n",
    "            val.append(0)\n",
    "        compound_disease_label.append(val)"
   ]
  },
  {
   "cell_type": "code",
   "execution_count": 26,
   "metadata": {},
   "outputs": [],
   "source": [
    "import numpy as np\n",
    "\n",
    "input = []\n",
    "for data in compound_disease_label:\n",
    "    input.append(np.vstack([model.wv[data[0]], model.wv[data[1]]]).reshape(60,))\n"
   ]
  },
  {
   "cell_type": "markdown",
   "metadata": {},
   "source": [
    "# Classification"
   ]
  },
  {
   "cell_type": "code",
   "execution_count": 27,
   "metadata": {},
   "outputs": [],
   "source": [
    "from sklearn.model_selection import train_test_split\n",
    "\n",
    "X_train, X_test, y_train, y_test =\\\n",
    "    train_test_split(input, compound_disease['label'], test_size=0.3, random_state=0, stratify=compound_disease['label'])"
   ]
  },
  {
   "cell_type": "code",
   "execution_count": 28,
   "metadata": {},
   "outputs": [
    {
     "data": {
      "text/html": [
       "<style>#sk-container-id-1 {color: black;background-color: white;}#sk-container-id-1 pre{padding: 0;}#sk-container-id-1 div.sk-toggleable {background-color: white;}#sk-container-id-1 label.sk-toggleable__label {cursor: pointer;display: block;width: 100%;margin-bottom: 0;padding: 0.3em;box-sizing: border-box;text-align: center;}#sk-container-id-1 label.sk-toggleable__label-arrow:before {content: \"▸\";float: left;margin-right: 0.25em;color: #696969;}#sk-container-id-1 label.sk-toggleable__label-arrow:hover:before {color: black;}#sk-container-id-1 div.sk-estimator:hover label.sk-toggleable__label-arrow:before {color: black;}#sk-container-id-1 div.sk-toggleable__content {max-height: 0;max-width: 0;overflow: hidden;text-align: left;background-color: #f0f8ff;}#sk-container-id-1 div.sk-toggleable__content pre {margin: 0.2em;color: black;border-radius: 0.25em;background-color: #f0f8ff;}#sk-container-id-1 input.sk-toggleable__control:checked~div.sk-toggleable__content {max-height: 200px;max-width: 100%;overflow: auto;}#sk-container-id-1 input.sk-toggleable__control:checked~label.sk-toggleable__label-arrow:before {content: \"▾\";}#sk-container-id-1 div.sk-estimator input.sk-toggleable__control:checked~label.sk-toggleable__label {background-color: #d4ebff;}#sk-container-id-1 div.sk-label input.sk-toggleable__control:checked~label.sk-toggleable__label {background-color: #d4ebff;}#sk-container-id-1 input.sk-hidden--visually {border: 0;clip: rect(1px 1px 1px 1px);clip: rect(1px, 1px, 1px, 1px);height: 1px;margin: -1px;overflow: hidden;padding: 0;position: absolute;width: 1px;}#sk-container-id-1 div.sk-estimator {font-family: monospace;background-color: #f0f8ff;border: 1px dotted black;border-radius: 0.25em;box-sizing: border-box;margin-bottom: 0.5em;}#sk-container-id-1 div.sk-estimator:hover {background-color: #d4ebff;}#sk-container-id-1 div.sk-parallel-item::after {content: \"\";width: 100%;border-bottom: 1px solid gray;flex-grow: 1;}#sk-container-id-1 div.sk-label:hover label.sk-toggleable__label {background-color: #d4ebff;}#sk-container-id-1 div.sk-serial::before {content: \"\";position: absolute;border-left: 1px solid gray;box-sizing: border-box;top: 0;bottom: 0;left: 50%;z-index: 0;}#sk-container-id-1 div.sk-serial {display: flex;flex-direction: column;align-items: center;background-color: white;padding-right: 0.2em;padding-left: 0.2em;position: relative;}#sk-container-id-1 div.sk-item {position: relative;z-index: 1;}#sk-container-id-1 div.sk-parallel {display: flex;align-items: stretch;justify-content: center;background-color: white;position: relative;}#sk-container-id-1 div.sk-item::before, #sk-container-id-1 div.sk-parallel-item::before {content: \"\";position: absolute;border-left: 1px solid gray;box-sizing: border-box;top: 0;bottom: 0;left: 50%;z-index: -1;}#sk-container-id-1 div.sk-parallel-item {display: flex;flex-direction: column;z-index: 1;position: relative;background-color: white;}#sk-container-id-1 div.sk-parallel-item:first-child::after {align-self: flex-end;width: 50%;}#sk-container-id-1 div.sk-parallel-item:last-child::after {align-self: flex-start;width: 50%;}#sk-container-id-1 div.sk-parallel-item:only-child::after {width: 0;}#sk-container-id-1 div.sk-dashed-wrapped {border: 1px dashed gray;margin: 0 0.4em 0.5em 0.4em;box-sizing: border-box;padding-bottom: 0.4em;background-color: white;}#sk-container-id-1 div.sk-label label {font-family: monospace;font-weight: bold;display: inline-block;line-height: 1.2em;}#sk-container-id-1 div.sk-label-container {text-align: center;}#sk-container-id-1 div.sk-container {/* jupyter's `normalize.less` sets `[hidden] { display: none; }` but bootstrap.min.css set `[hidden] { display: none !important; }` so we also need the `!important` here to be able to override the default hidden behavior on the sphinx rendered scikit-learn.org. See: https://github.com/scikit-learn/scikit-learn/issues/21755 */display: inline-block !important;position: relative;}#sk-container-id-1 div.sk-text-repr-fallback {display: none;}</style><div id=\"sk-container-id-1\" class=\"sk-top-container\"><div class=\"sk-text-repr-fallback\"><pre>LogisticRegression(class_weight=&#x27;balanced&#x27;, random_state=0)</pre><b>In a Jupyter environment, please rerun this cell to show the HTML representation or trust the notebook. <br />On GitHub, the HTML representation is unable to render, please try loading this page with nbviewer.org.</b></div><div class=\"sk-container\" hidden><div class=\"sk-item\"><div class=\"sk-estimator sk-toggleable\"><input class=\"sk-toggleable__control sk-hidden--visually\" id=\"sk-estimator-id-1\" type=\"checkbox\" checked><label for=\"sk-estimator-id-1\" class=\"sk-toggleable__label sk-toggleable__label-arrow\">LogisticRegression</label><div class=\"sk-toggleable__content\"><pre>LogisticRegression(class_weight=&#x27;balanced&#x27;, random_state=0)</pre></div></div></div></div></div>"
      ],
      "text/plain": [
       "LogisticRegression(class_weight='balanced', random_state=0)"
      ]
     },
     "execution_count": 28,
     "metadata": {},
     "output_type": "execute_result"
    }
   ],
   "source": [
    "from sklearn.linear_model import LogisticRegression\n",
    "\n",
    "lr = LogisticRegression(class_weight='balanced', random_state=0)\n",
    "\n",
    "lr.fit(X_train,y_train)\t"
   ]
  },
  {
   "cell_type": "code",
   "execution_count": 29,
   "metadata": {},
   "outputs": [
    {
     "name": "stdout",
     "output_type": "stream",
     "text": [
      "[[-1.74374886  1.05958278  0.93662931  0.36152172 -0.14452104  1.88742714\n",
      "   1.25349976  1.27147728 -0.08101195 -0.07687921 -0.27493856 -3.08865752\n",
      "  -1.74025556  0.15043663  1.76104729 -0.34114188  2.31570145  0.62030439\n",
      "   0.37869963 -2.80445658  1.45019158 -0.44070666 -0.4843619  -0.35732427\n",
      "  -0.11924184  1.48636702  0.17469297 -0.65788869  0.04764343 -0.47447451\n",
      "  -1.36909297 -1.0519636   0.75450818  3.55830522 -0.44259691 -1.89931073\n",
      "  -4.16459712  0.86562625  3.98554967  1.2728828  -2.40658295  2.79053189\n",
      "   4.32841099  3.29097103 -2.33660921  1.45097223 -2.01863117 -0.19748977\n",
      "   1.9432787   2.1647093  -1.82358707 -2.06713882  0.49412757 -5.22835305\n",
      "  -1.45465589  0.10076782  2.35900428  3.94576995  0.89680574  1.66993967]] \n",
      " [6.3968076]\n"
     ]
    }
   ],
   "source": [
    "print(lr.coef_ ,'\\n' ,lr.intercept_)"
   ]
  },
  {
   "cell_type": "code",
   "execution_count": 30,
   "metadata": {},
   "outputs": [
    {
     "data": {
      "text/plain": [
       "0.8888888888888888"
      ]
     },
     "execution_count": 30,
     "metadata": {},
     "output_type": "execute_result"
    }
   ],
   "source": [
    "lr.score(X_test,y_test)\n",
    "\t\t\t\t\t\t\t\t\t\t\t\t\t\t\t    "
   ]
  },
  {
   "cell_type": "code",
   "execution_count": 31,
   "metadata": {},
   "outputs": [
    {
     "name": "stdout",
     "output_type": "stream",
     "text": [
      "Accuracy: 0.8888888888888888\n",
      "Precision: 0.22279792746113988\n",
      "Recall: 0.9555555555555556\n",
      "F1 Score: 0.36134453781512604\n",
      "Confusion Matrix:\n",
      "[[2346  300]\n",
      " [   4   86]]\n"
     ]
    }
   ],
   "source": [
    "from sklearn.metrics import accuracy_score, precision_score, recall_score, f1_score, confusion_matrix\n",
    "\n",
    "# 테스트 세트에 대한 예측\n",
    "y_pred = lr.predict(X_test)\n",
    "\n",
    "# 평가 지표 계산\n",
    "accuracy = accuracy_score(y_test, y_pred)\n",
    "precision = precision_score(y_test, y_pred)\n",
    "recall = recall_score(y_test, y_pred)\n",
    "f1 = f1_score(y_test, y_pred)\n",
    "conf_matrix = confusion_matrix(y_test, y_pred)\n",
    "\n",
    "# 결과 출력\n",
    "print(f\"Accuracy: {accuracy}\")\n",
    "print(f\"Precision: {precision}\")\n",
    "print(f\"Recall: {recall}\")\n",
    "print(f\"F1 Score: {f1}\")\n",
    "print(f\"Confusion Matrix:\\n{conf_matrix}\")"
   ]
  },
  {
   "cell_type": "code",
   "execution_count": 32,
   "metadata": {},
   "outputs": [
    {
     "name": "stdout",
     "output_type": "stream",
     "text": [
      "Accuracy: 0.985014619883041\n",
      "Precision: 0.9454545454545454\n",
      "Recall: 0.5777777777777777\n",
      "F1 Score: 0.7172413793103448\n",
      "Confusion Matrix:\n",
      "[[2643    3]\n",
      " [  38   52]]\n"
     ]
    }
   ],
   "source": [
    "import xgboost as xgb\n",
    "from sklearn.metrics import accuracy_score, precision_score, recall_score, f1_score, confusion_matrix\n",
    "\n",
    "# XGBoost 모델 생성 및 학습\n",
    "xg1 = xgb.XGBClassifier(random_state=0)\n",
    "xg1.fit(X_train, y_train)\n",
    "\n",
    "# 테스트 세트에 대한 예측\n",
    "y_pred = xg1.predict(X_test)\n",
    "\n",
    "# 평가 지표 계산\n",
    "accuracy = accuracy_score(y_test, y_pred)\n",
    "precision = precision_score(y_test, y_pred)\n",
    "recall = recall_score(y_test, y_pred)\n",
    "f1 = f1_score(y_test, y_pred)\n",
    "conf_matrix = confusion_matrix(y_test, y_pred)\n",
    "\n",
    "# 결과 출력\n",
    "print(f\"Accuracy: {accuracy}\")\n",
    "print(f\"Precision: {precision}\")\n",
    "print(f\"Recall: {recall}\")\n",
    "print(f\"F1 Score: {f1}\")\n",
    "print(f\"Confusion Matrix:\\n{conf_matrix}\")\n"
   ]
  },
  {
   "cell_type": "code",
   "execution_count": 33,
   "metadata": {},
   "outputs": [
    {
     "name": "stdout",
     "output_type": "stream",
     "text": [
      "Accuracy: 0.8680555555555556\n",
      "Precision: 0.19550561797752808\n",
      "Recall: 0.9666666666666667\n",
      "F1 Score: 0.32523364485981304\n",
      "Confusion Matrix:\n",
      "[[2288  358]\n",
      " [   3   87]]\n"
     ]
    }
   ],
   "source": [
    "import xgboost as xgb\n",
    "from sklearn.metrics import accuracy_score, precision_score, recall_score, f1_score, confusion_matrix\n",
    "from imblearn.under_sampling import RandomUnderSampler\n",
    "\n",
    "# 언더샘플링 적용\n",
    "rus = RandomUnderSampler(random_state=0)\n",
    "X_resampled, y_resampled = rus.fit_resample(X_train, y_train)\n",
    "\n",
    "# XGBoost 모델 생성 및 학습\n",
    "xg2 = xgb.XGBClassifier(random_state=0)\n",
    "xg2.fit(X_resampled, y_resampled)\n",
    "\n",
    "# 테스트 세트에 대한 예측\n",
    "y_pred = xg2.predict(X_test)\n",
    "\n",
    "# 평가 지표 계산\n",
    "accuracy = accuracy_score(y_test, y_pred)\n",
    "precision = precision_score(y_test, y_pred)\n",
    "recall = recall_score(y_test, y_pred)\n",
    "f1 = f1_score(y_test, y_pred)\n",
    "conf_matrix = confusion_matrix(y_test, y_pred)\n",
    "\n",
    "# 결과 출력\n",
    "print(f\"Accuracy: {accuracy}\")\n",
    "print(f\"Precision: {precision}\")\n",
    "print(f\"Recall: {recall}\")\n",
    "print(f\"F1 Score: {f1}\")\n",
    "print(f\"Confusion Matrix:\\n{conf_matrix}\")\n"
   ]
  },
  {
   "cell_type": "code",
   "execution_count": 34,
   "metadata": {},
   "outputs": [
    {
     "name": "stdout",
     "output_type": "stream",
     "text": [
      "Accuracy: 0.9857456140350878\n",
      "Precision: 0.8227848101265823\n",
      "Recall: 0.7222222222222222\n",
      "F1 Score: 0.7692307692307693\n",
      "Confusion Matrix:\n",
      "[[2632   14]\n",
      " [  25   65]]\n"
     ]
    }
   ],
   "source": [
    "import xgboost as xgb\n",
    "from sklearn.metrics import accuracy_score, precision_score, recall_score, f1_score, confusion_matrix\n",
    "from imblearn.over_sampling import RandomOverSampler\n",
    "from sklearn.model_selection import train_test_split\n",
    "\n",
    "X_train, X_test, y_train, y_test =\\\n",
    "    train_test_split(input, compound_disease['label'], test_size=0.3, random_state=0, stratify=compound_disease['label'])\n",
    "\n",
    "# 오버샘플링 적용\n",
    "ros = RandomOverSampler(random_state=0)\n",
    "X_resampled, y_resampled = ros.fit_resample(X_train, y_train)\n",
    "\n",
    "# XGBoost 모델 생성 및 학습\n",
    "xg3 = xgb.XGBClassifier(random_state=0)\n",
    "xg3.fit(X_resampled, y_resampled)\n",
    "\n",
    "# 테스트 세트에 대한 예측\n",
    "y_pred = xg3.predict(X_test)\n",
    "\n",
    "# 평가 지표 계산\n",
    "accuracy = accuracy_score(y_test, y_pred)\n",
    "precision = precision_score(y_test, y_pred)\n",
    "recall = recall_score(y_test, y_pred)\n",
    "f1 = f1_score(y_test, y_pred)\n",
    "conf_matrix = confusion_matrix(y_test, y_pred)\n",
    "\n",
    "# 결과 출력\n",
    "print(f\"Accuracy: {accuracy}\")\n",
    "print(f\"Precision: {precision}\")\n",
    "print(f\"Recall: {recall}\")\n",
    "print(f\"F1 Score: {f1}\")\n",
    "print(f\"Confusion Matrix:\\n{conf_matrix}\")\n"
   ]
  },
  {
   "cell_type": "markdown",
   "metadata": {},
   "source": [
    "# Evaluation"
   ]
  },
  {
   "cell_type": "code",
   "execution_count": 35,
   "metadata": {},
   "outputs": [
    {
     "data": {
      "image/png": "[encoded data removed]",
      "text/plain": [
       "<Figure size 800x600 with 1 Axes>"
      ]
     },
     "metadata": {},
     "output_type": "display_data"
    }
   ],
   "source": [
    "import sklearn.metrics as sm\n",
    "import matplotlib.pyplot as plt\n",
    "\n",
    "y_probs = xg3.predict_proba(X_test)[:, 1]\n",
    "fpr, tpr, thresholds = sm.roc_curve(y_test, y_probs)\n",
    "\n",
    "# AUC (Area Under the ROC Curve) 계산\n",
    "auc = sm.roc_auc_score(y_test, y_probs)\n",
    "\n",
    "# ROC 곡선 그리기\n",
    "plt.figure(figsize=(8, 6))\n",
    "plt.plot(fpr, tpr, color='blue', lw=2, label=f'ROC curve (AUC = {auc:.2f})')\n",
    "plt.plot([0, 1], [0, 1], color='gray', linestyle='--')\n",
    "plt.xlim([0.0, 1.0])\n",
    "plt.ylim([0.0, 1.05])\n",
    "plt.xlabel('False Positive Rate')\n",
    "plt.ylabel('True Positive Rate')\n",
    "plt.title('Receiver Operating Characteristic (ROC) Curve')\n",
    "plt.legend(loc='lower right')\n",
    "plt.show()"
   ]
  },
  {
   "cell_type": "code",
   "execution_count": null,
   "metadata": {},
   "outputs": [],
   "source": []
  }
 ],
 "metadata": {
  "kernelspec": {
   "display_name": "Python 3 (ipykernel)",
   "language": "python",
   "name": "python3"
  },
  "language_info": {
   "codemirror_mode": {
    "name": "ipython",
    "version": 3
   },
   "file_extension": ".py",
   "mimetype": "text/x-python",
   "name": "python",
   "nbconvert_exporter": "python",
   "pygments_lexer": "ipython3",
   "version": "3.10.9"
  }
 },
 "nbformat": 4,
 "nbformat_minor": 2
}
