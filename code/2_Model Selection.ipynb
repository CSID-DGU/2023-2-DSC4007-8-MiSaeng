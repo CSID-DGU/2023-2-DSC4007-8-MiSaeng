{
 "cells": [
  {
   "cell_type": "markdown",
   "metadata": {},
   "source": [
    "# Input data"
   ]
  },
  {
   "cell_type": "code",
   "execution_count": null,
   "metadata": {},
   "outputs": [],
   "source": [
    "# 깃허브 용량 문제로 csv 파일은 올리지 않음\n",
    "# 필요시 [1_input data 생성] 소스코드에서 csv파일 생성\n",
    "compound_disease = pd.read_csv('compound_disease.csv')\n",
    "compound_disease"
   ]
  },
  {
   "cell_type": "code",
   "execution_count": null,
   "metadata": {},
   "outputs": [],
   "source": [
    "import numpy as np\n",
    "compound_disease_label = list(zip(compound_disease['source'].tolist(),compound_disease['target'].tolist()))\n",
    "\n",
    "input = []\n",
    "for data in compound_disease_label:\n",
    "    input.append(np.vstack([Save_embeddings[data[0]], Save_embeddings[data[1]]]).reshape(120,))"
   ]
  },
  {
   "cell_type": "code",
   "execution_count": null,
   "metadata": {},
   "outputs": [
    {
     "data": {
      "text/plain": [
       "0.0    211479\n",
       "1.0      1145\n",
       "Name: label, dtype: int64"
      ]
     },
     "metadata": {},
     "output_type": "display_data"
    }
   ],
   "source": [
    "compound_disease['label'].value_counts()"
   ]
  },
  {
   "cell_type": "markdown",
   "metadata": {},
   "source": [
    "##### -> label bias가 심하다"
   ]
  },
  {
   "cell_type": "code",
   "execution_count": null,
   "metadata": {},
   "outputs": [],
   "source": [
    "from sklearn.model_selection import train_test_split\n",
    "\n",
    "X_train, X_test, y_train, y_test =\\\n",
    "    train_test_split(input, compound_disease['label'], test_size=0.3, random_state=0, stratify=compound_disease['label'])"
   ]
  },
  {
   "cell_type": "markdown",
   "metadata": {},
   "source": [
    "# Classification - LogisticRegression"
   ]
  },
  {
   "cell_type": "code",
   "execution_count": 32,
   "metadata": {},
   "outputs": [
    {
     "name": "stderr",
     "output_type": "stream",
     "text": [
      "/Applications/miniconda3/envs/myenv/lib/python3.10/site-packages/sklearn/linear_model/_logistic.py:460: ConvergenceWarning: lbfgs failed to converge (status=1):\n",
      "STOP: TOTAL NO. of ITERATIONS REACHED LIMIT.\n",
      "\n",
      "Increase the number of iterations (max_iter) or scale the data as shown in:\n",
      "    https://scikit-learn.org/stable/modules/preprocessing.html\n",
      "Please also refer to the documentation for alternative solver options:\n",
      "    https://scikit-learn.org/stable/modules/linear_model.html#logistic-regression\n",
      "  n_iter_i = _check_optimize_result(\n"
     ]
    },
    {
     "data": {
      "text/html": [
       "<style>#sk-container-id-1 {color: black;}#sk-container-id-1 pre{padding: 0;}#sk-container-id-1 div.sk-toggleable {background-color: white;}#sk-container-id-1 label.sk-toggleable__label {cursor: pointer;display: block;width: 100%;margin-bottom: 0;padding: 0.3em;box-sizing: border-box;text-align: center;}#sk-container-id-1 label.sk-toggleable__label-arrow:before {content: \"▸\";float: left;margin-right: 0.25em;color: #696969;}#sk-container-id-1 label.sk-toggleable__label-arrow:hover:before {color: black;}#sk-container-id-1 div.sk-estimator:hover label.sk-toggleable__label-arrow:before {color: black;}#sk-container-id-1 div.sk-toggleable__content {max-height: 0;max-width: 0;overflow: hidden;text-align: left;background-color: #f0f8ff;}#sk-container-id-1 div.sk-toggleable__content pre {margin: 0.2em;color: black;border-radius: 0.25em;background-color: #f0f8ff;}#sk-container-id-1 input.sk-toggleable__control:checked~div.sk-toggleable__content {max-height: 200px;max-width: 100%;overflow: auto;}#sk-container-id-1 input.sk-toggleable__control:checked~label.sk-toggleable__label-arrow:before {content: \"▾\";}#sk-container-id-1 div.sk-estimator input.sk-toggleable__control:checked~label.sk-toggleable__label {background-color: #d4ebff;}#sk-container-id-1 div.sk-label input.sk-toggleable__control:checked~label.sk-toggleable__label {background-color: #d4ebff;}#sk-container-id-1 input.sk-hidden--visually {border: 0;clip: rect(1px 1px 1px 1px);clip: rect(1px, 1px, 1px, 1px);height: 1px;margin: -1px;overflow: hidden;padding: 0;position: absolute;width: 1px;}#sk-container-id-1 div.sk-estimator {font-family: monospace;background-color: #f0f8ff;border: 1px dotted black;border-radius: 0.25em;box-sizing: border-box;margin-bottom: 0.5em;}#sk-container-id-1 div.sk-estimator:hover {background-color: #d4ebff;}#sk-container-id-1 div.sk-parallel-item::after {content: \"\";width: 100%;border-bottom: 1px solid gray;flex-grow: 1;}#sk-container-id-1 div.sk-label:hover label.sk-toggleable__label {background-color: #d4ebff;}#sk-container-id-1 div.sk-serial::before {content: \"\";position: absolute;border-left: 1px solid gray;box-sizing: border-box;top: 0;bottom: 0;left: 50%;z-index: 0;}#sk-container-id-1 div.sk-serial {display: flex;flex-direction: column;align-items: center;background-color: white;padding-right: 0.2em;padding-left: 0.2em;position: relative;}#sk-container-id-1 div.sk-item {position: relative;z-index: 1;}#sk-container-id-1 div.sk-parallel {display: flex;align-items: stretch;justify-content: center;background-color: white;position: relative;}#sk-container-id-1 div.sk-item::before, #sk-container-id-1 div.sk-parallel-item::before {content: \"\";position: absolute;border-left: 1px solid gray;box-sizing: border-box;top: 0;bottom: 0;left: 50%;z-index: -1;}#sk-container-id-1 div.sk-parallel-item {display: flex;flex-direction: column;z-index: 1;position: relative;background-color: white;}#sk-container-id-1 div.sk-parallel-item:first-child::after {align-self: flex-end;width: 50%;}#sk-container-id-1 div.sk-parallel-item:last-child::after {align-self: flex-start;width: 50%;}#sk-container-id-1 div.sk-parallel-item:only-child::after {width: 0;}#sk-container-id-1 div.sk-dashed-wrapped {border: 1px dashed gray;margin: 0 0.4em 0.5em 0.4em;box-sizing: border-box;padding-bottom: 0.4em;background-color: white;}#sk-container-id-1 div.sk-label label {font-family: monospace;font-weight: bold;display: inline-block;line-height: 1.2em;}#sk-container-id-1 div.sk-label-container {text-align: center;}#sk-container-id-1 div.sk-container {/* jupyter's `normalize.less` sets `[hidden] { display: none; }` but bootstrap.min.css set `[hidden] { display: none !important; }` so we also need the `!important` here to be able to override the default hidden behavior on the sphinx rendered scikit-learn.org. See: https://github.com/scikit-learn/scikit-learn/issues/21755 */display: inline-block !important;position: relative;}#sk-container-id-1 div.sk-text-repr-fallback {display: none;}</style><div id=\"sk-container-id-1\" class=\"sk-top-container\"><div class=\"sk-text-repr-fallback\"><pre>LogisticRegression(random_state=0)</pre><b>In a Jupyter environment, please rerun this cell to show the HTML representation or trust the notebook. <br />On GitHub, the HTML representation is unable to render, please try loading this page with nbviewer.org.</b></div><div class=\"sk-container\" hidden><div class=\"sk-item\"><div class=\"sk-estimator sk-toggleable\"><input class=\"sk-toggleable__control sk-hidden--visually\" id=\"sk-estimator-id-1\" type=\"checkbox\" checked><label for=\"sk-estimator-id-1\" class=\"sk-toggleable__label sk-toggleable__label-arrow\">LogisticRegression</label><div class=\"sk-toggleable__content\"><pre>LogisticRegression(random_state=0)</pre></div></div></div></div></div>"
      ],
      "text/plain": [
       "LogisticRegression(random_state=0)"
      ]
     },
     "execution_count": 32,
     "metadata": {},
     "output_type": "execute_result"
    }
   ],
   "source": [
    "from sklearn.linear_model import LogisticRegression\n",
    "\n",
    "lr = LogisticRegression(random_state=0)\n",
    "\n",
    "lr.fit(X_train,y_train)\t"
   ]
  },
  {
   "cell_type": "code",
   "execution_count": 33,
   "metadata": {},
   "outputs": [
    {
     "data": {
      "text/plain": [
       "0.9946071361384586"
      ]
     },
     "execution_count": 33,
     "metadata": {},
     "output_type": "execute_result"
    }
   ],
   "source": [
    "lr.score(X_test,y_test)\n",
    "\t\t\t\t\t\t\t\t\t\t\t\t\t\t\t    "
   ]
  },
  {
   "cell_type": "code",
   "execution_count": 80,
   "metadata": {},
   "outputs": [
    {
     "name": "stdout",
     "output_type": "stream",
     "text": [
      "Accuracy: 0.9946071361384586\n",
      "Precision: 0.5\n",
      "Recall: 0.005813953488372093\n",
      "F1 Score: 0.011494252873563218\n",
      "Confusion Matrix:\n",
      "[[63442     2]\n",
      " [  342     2]]\n"
     ]
    }
   ],
   "source": [
    "from sklearn.metrics import accuracy_score, precision_score, recall_score, f1_score, confusion_matrix\n",
    "\n",
    "# 테스트 세트에 대한 예측\n",
    "y_pred = lr.predict(X_test)\n",
    "\n",
    "# 평가 지표 계산\n",
    "accuracy = accuracy_score(y_test, y_pred)\n",
    "precision = precision_score(y_test, y_pred)\n",
    "recall = recall_score(y_test, y_pred)\n",
    "f1 = f1_score(y_test, y_pred)\n",
    "conf_matrix = confusion_matrix(y_test, y_pred)\n",
    "\n",
    "# 결과 출력\n",
    "print(f\"Accuracy: {accuracy}\")\n",
    "print(f\"Precision: {precision}\")\n",
    "print(f\"Recall: {recall}\")\n",
    "print(f\"F1 Score: {f1}\")\n",
    "print(f\"Confusion Matrix:\\n{conf_matrix}\")"
   ]
  },
  {
   "cell_type": "code",
   "execution_count": 81,
   "metadata": {},
   "outputs": [],
   "source": [
    "Model=[]\n",
    "Precision = []\n",
    "Recall = []\n",
    "F1 = []\n",
    "\n",
    "Model.append('lr')\n",
    "Precision.append(precision)\n",
    "Recall.append(recall)\n",
    "F1.append(f1)"
   ]
  },
  {
   "cell_type": "code",
   "execution_count": 84,
   "metadata": {},
   "outputs": [
    {
     "data": {
      "text/plain": [
       "0.0    63444\n",
       "1.0      344\n",
       "Name: label, dtype: int64"
      ]
     },
     "execution_count": 84,
     "metadata": {},
     "output_type": "execute_result"
    }
   ],
   "source": [
    "y_test.value_counts()"
   ]
  },
  {
   "cell_type": "markdown",
   "metadata": {},
   "source": [
    "#### -> 테스트셋 P 344개"
   ]
  },
  {
   "cell_type": "code",
   "execution_count": 85,
   "metadata": {},
   "outputs": [
    {
     "data": {
      "text/plain": [
       "(array([0., 1.]), array([63784,     4]))"
      ]
     },
     "execution_count": 85,
     "metadata": {},
     "output_type": "execute_result"
    }
   ],
   "source": [
    "np.unique(lr.predict(X_test), return_counts=True)"
   ]
  },
  {
   "cell_type": "markdown",
   "metadata": {},
   "source": [
    "#### -> 가장 간단한 logistic regression의 경우 label bias가 심해 예측P가 거의 없음"
   ]
  },
  {
   "cell_type": "code",
   "execution_count": 86,
   "metadata": {},
   "outputs": [
    {
     "name": "stderr",
     "output_type": "stream",
     "text": [
      "/Applications/miniconda3/envs/myenv/lib/python3.10/site-packages/sklearn/linear_model/_logistic.py:460: ConvergenceWarning: lbfgs failed to converge (status=1):\n",
      "STOP: TOTAL NO. of ITERATIONS REACHED LIMIT.\n",
      "\n",
      "Increase the number of iterations (max_iter) or scale the data as shown in:\n",
      "    https://scikit-learn.org/stable/modules/preprocessing.html\n",
      "Please also refer to the documentation for alternative solver options:\n",
      "    https://scikit-learn.org/stable/modules/linear_model.html#logistic-regression\n",
      "  n_iter_i = _check_optimize_result(\n"
     ]
    },
    {
     "data": {
      "text/plain": [
       "0.8304226500282185"
      ]
     },
     "execution_count": 86,
     "metadata": {},
     "output_type": "execute_result"
    }
   ],
   "source": [
    "# class_weight='balanced'\n",
    "\n",
    "lr_class_weight = LogisticRegression(class_weight='balanced', random_state=0)\n",
    "\n",
    "lr_class_weight.fit(X_train,y_train)\t\n",
    "\n",
    "lr_class_weight.score(X_test,y_test)"
   ]
  },
  {
   "cell_type": "code",
   "execution_count": 87,
   "metadata": {},
   "outputs": [
    {
     "name": "stdout",
     "output_type": "stream",
     "text": [
      "Accuracy: 0.8304226500282185\n",
      "Precision: 0.027007497064402492\n",
      "Recall: 0.8691860465116279\n",
      "F1 Score: 0.05238720981165133\n",
      "Confusion Matrix:\n",
      "[[52672 10772]\n",
      " [   45   299]]\n"
     ]
    }
   ],
   "source": [
    "# 테스트 세트에 대한 예측\n",
    "y_pred = lr_class_weight.predict(X_test)\n",
    "\n",
    "# 평가 지표 계산\n",
    "accuracy = accuracy_score(y_test, y_pred)\n",
    "precision = precision_score(y_test, y_pred)\n",
    "recall = recall_score(y_test, y_pred)\n",
    "f1 = f1_score(y_test, y_pred)\n",
    "conf_matrix = confusion_matrix(y_test, y_pred)\n",
    "\n",
    "# 결과 출력\n",
    "print(f\"Accuracy: {accuracy}\")\n",
    "print(f\"Precision: {precision}\")\n",
    "print(f\"Recall: {recall}\")\n",
    "print(f\"F1 Score: {f1}\")\n",
    "print(f\"Confusion Matrix:\\n{conf_matrix}\")"
   ]
  },
  {
   "cell_type": "code",
   "execution_count": 88,
   "metadata": {},
   "outputs": [
    {
     "data": {
      "text/plain": [
       "(array([0., 1.]), array([52717, 11071]))"
      ]
     },
     "execution_count": 88,
     "metadata": {},
     "output_type": "execute_result"
    }
   ],
   "source": [
    "np.unique(lr_class_weight.predict(X_test), return_counts=True)"
   ]
  },
  {
   "cell_type": "code",
   "execution_count": 89,
   "metadata": {},
   "outputs": [],
   "source": [
    "Model.append('lr_class_weight')\n",
    "Precision.append(precision)\n",
    "Recall.append(recall)\n",
    "F1.append(f1)"
   ]
  },
  {
   "cell_type": "code",
   "execution_count": 90,
   "metadata": {},
   "outputs": [],
   "source": [
    "####      예측N   예측P\n",
    "#### 실제N[[52672 10772]\n",
    "#### 실제P[   45   299]]\n"
   ]
  },
  {
   "cell_type": "markdown",
   "metadata": {},
   "source": [
    "#### -> 실제P:344, 예측P:11071 - FP의 수가 높아 Precision이 매우 낮음"
   ]
  },
  {
   "cell_type": "markdown",
   "metadata": {},
   "source": [
    "# Classification - svm"
   ]
  },
  {
   "cell_type": "code",
   "execution_count": 92,
   "metadata": {},
   "outputs": [
    {
     "data": {
      "text/html": [
       "<style>#sk-container-id-3 {color: black;}#sk-container-id-3 pre{padding: 0;}#sk-container-id-3 div.sk-toggleable {background-color: white;}#sk-container-id-3 label.sk-toggleable__label {cursor: pointer;display: block;width: 100%;margin-bottom: 0;padding: 0.3em;box-sizing: border-box;text-align: center;}#sk-container-id-3 label.sk-toggleable__label-arrow:before {content: \"▸\";float: left;margin-right: 0.25em;color: #696969;}#sk-container-id-3 label.sk-toggleable__label-arrow:hover:before {color: black;}#sk-container-id-3 div.sk-estimator:hover label.sk-toggleable__label-arrow:before {color: black;}#sk-container-id-3 div.sk-toggleable__content {max-height: 0;max-width: 0;overflow: hidden;text-align: left;background-color: #f0f8ff;}#sk-container-id-3 div.sk-toggleable__content pre {margin: 0.2em;color: black;border-radius: 0.25em;background-color: #f0f8ff;}#sk-container-id-3 input.sk-toggleable__control:checked~div.sk-toggleable__content {max-height: 200px;max-width: 100%;overflow: auto;}#sk-container-id-3 input.sk-toggleable__control:checked~label.sk-toggleable__label-arrow:before {content: \"▾\";}#sk-container-id-3 div.sk-estimator input.sk-toggleable__control:checked~label.sk-toggleable__label {background-color: #d4ebff;}#sk-container-id-3 div.sk-label input.sk-toggleable__control:checked~label.sk-toggleable__label {background-color: #d4ebff;}#sk-container-id-3 input.sk-hidden--visually {border: 0;clip: rect(1px 1px 1px 1px);clip: rect(1px, 1px, 1px, 1px);height: 1px;margin: -1px;overflow: hidden;padding: 0;position: absolute;width: 1px;}#sk-container-id-3 div.sk-estimator {font-family: monospace;background-color: #f0f8ff;border: 1px dotted black;border-radius: 0.25em;box-sizing: border-box;margin-bottom: 0.5em;}#sk-container-id-3 div.sk-estimator:hover {background-color: #d4ebff;}#sk-container-id-3 div.sk-parallel-item::after {content: \"\";width: 100%;border-bottom: 1px solid gray;flex-grow: 1;}#sk-container-id-3 div.sk-label:hover label.sk-toggleable__label {background-color: #d4ebff;}#sk-container-id-3 div.sk-serial::before {content: \"\";position: absolute;border-left: 1px solid gray;box-sizing: border-box;top: 0;bottom: 0;left: 50%;z-index: 0;}#sk-container-id-3 div.sk-serial {display: flex;flex-direction: column;align-items: center;background-color: white;padding-right: 0.2em;padding-left: 0.2em;position: relative;}#sk-container-id-3 div.sk-item {position: relative;z-index: 1;}#sk-container-id-3 div.sk-parallel {display: flex;align-items: stretch;justify-content: center;background-color: white;position: relative;}#sk-container-id-3 div.sk-item::before, #sk-container-id-3 div.sk-parallel-item::before {content: \"\";position: absolute;border-left: 1px solid gray;box-sizing: border-box;top: 0;bottom: 0;left: 50%;z-index: -1;}#sk-container-id-3 div.sk-parallel-item {display: flex;flex-direction: column;z-index: 1;position: relative;background-color: white;}#sk-container-id-3 div.sk-parallel-item:first-child::after {align-self: flex-end;width: 50%;}#sk-container-id-3 div.sk-parallel-item:last-child::after {align-self: flex-start;width: 50%;}#sk-container-id-3 div.sk-parallel-item:only-child::after {width: 0;}#sk-container-id-3 div.sk-dashed-wrapped {border: 1px dashed gray;margin: 0 0.4em 0.5em 0.4em;box-sizing: border-box;padding-bottom: 0.4em;background-color: white;}#sk-container-id-3 div.sk-label label {font-family: monospace;font-weight: bold;display: inline-block;line-height: 1.2em;}#sk-container-id-3 div.sk-label-container {text-align: center;}#sk-container-id-3 div.sk-container {/* jupyter's `normalize.less` sets `[hidden] { display: none; }` but bootstrap.min.css set `[hidden] { display: none !important; }` so we also need the `!important` here to be able to override the default hidden behavior on the sphinx rendered scikit-learn.org. See: https://github.com/scikit-learn/scikit-learn/issues/21755 */display: inline-block !important;position: relative;}#sk-container-id-3 div.sk-text-repr-fallback {display: none;}</style><div id=\"sk-container-id-3\" class=\"sk-top-container\"><div class=\"sk-text-repr-fallback\"><pre>SVC(class_weight=&#x27;balanced&#x27;, random_state=0)</pre><b>In a Jupyter environment, please rerun this cell to show the HTML representation or trust the notebook. <br />On GitHub, the HTML representation is unable to render, please try loading this page with nbviewer.org.</b></div><div class=\"sk-container\" hidden><div class=\"sk-item\"><div class=\"sk-estimator sk-toggleable\"><input class=\"sk-toggleable__control sk-hidden--visually\" id=\"sk-estimator-id-3\" type=\"checkbox\" checked><label for=\"sk-estimator-id-3\" class=\"sk-toggleable__label sk-toggleable__label-arrow\">SVC</label><div class=\"sk-toggleable__content\"><pre>SVC(class_weight=&#x27;balanced&#x27;, random_state=0)</pre></div></div></div></div></div>"
      ],
      "text/plain": [
       "SVC(class_weight='balanced', random_state=0)"
      ]
     },
     "execution_count": 92,
     "metadata": {},
     "output_type": "execute_result"
    }
   ],
   "source": [
    "from sklearn.svm import SVC\n",
    "\n",
    "# class_weight='balanced'\n",
    "svm_class_weight = SVC(class_weight='balanced',random_state=0)\n",
    "svm_class_weight.fit(X_train, y_train)"
   ]
  },
  {
   "cell_type": "code",
   "execution_count": 93,
   "metadata": {},
   "outputs": [
    {
     "data": {
      "text/plain": [
       "0.9953282749106415"
      ]
     },
     "execution_count": 93,
     "metadata": {},
     "output_type": "execute_result"
    }
   ],
   "source": [
    "svm_class_weight.score(X_test, y_test)"
   ]
  },
  {
   "cell_type": "code",
   "execution_count": 94,
   "metadata": {},
   "outputs": [
    {
     "data": {
      "text/plain": [
       "(array([0., 1.]), array([63168,   620]))"
      ]
     },
     "execution_count": 94,
     "metadata": {},
     "output_type": "execute_result"
    }
   ],
   "source": [
    "np.unique(svm_class_weight.predict(X_test), return_counts=True)"
   ]
  },
  {
   "cell_type": "code",
   "execution_count": 95,
   "metadata": {},
   "outputs": [
    {
     "name": "stdout",
     "output_type": "stream",
     "text": [
      "Accuracy: 0.9953282749106415\n",
      "Precision: 0.5370967741935484\n",
      "Recall: 0.9680232558139535\n",
      "F1 Score: 0.6908713692946058\n",
      "Confusion Matrix:\n",
      "[[63157   287]\n",
      " [   11   333]]\n"
     ]
    }
   ],
   "source": [
    "# 테스트 세트에 대한 예측\n",
    "y_pred = svm_class_weight.predict(X_test)\n",
    "\n",
    "# 평가 지표 계산\n",
    "accuracy = accuracy_score(y_test, y_pred)\n",
    "precision = precision_score(y_test, y_pred)\n",
    "recall = recall_score(y_test, y_pred)\n",
    "f1 = f1_score(y_test, y_pred)\n",
    "conf_matrix = confusion_matrix(y_test, y_pred)\n",
    "\n",
    "# 결과 출력\n",
    "print(f\"Accuracy: {accuracy}\")\n",
    "print(f\"Precision: {precision}\")\n",
    "print(f\"Recall: {recall}\")\n",
    "print(f\"F1 Score: {f1}\")\n",
    "print(f\"Confusion Matrix:\\n{conf_matrix}\")"
   ]
  },
  {
   "cell_type": "code",
   "execution_count": 96,
   "metadata": {},
   "outputs": [],
   "source": [
    "Model.append('svm_class_weight')\n",
    "Precision.append(precision)\n",
    "Recall.append(recall)\n",
    "F1.append(f1)"
   ]
  },
  {
   "cell_type": "code",
   "execution_count": 97,
   "metadata": {},
   "outputs": [],
   "source": [
    "####      예측N   예측P\n",
    "#### 실제N[[63157   287]\n",
    "#### 실제P[   11   333]]"
   ]
  },
  {
   "cell_type": "markdown",
   "metadata": {},
   "source": [
    "#### -> recall은 매우 좋으나, 예측P 620개 중 FP가 287개로 precision 개선이 여전히 필요"
   ]
  },
  {
   "cell_type": "markdown",
   "metadata": {},
   "source": [
    "# Classification - xgboost"
   ]
  },
  {
   "cell_type": "code",
   "execution_count": 99,
   "metadata": {},
   "outputs": [
    {
     "name": "stdout",
     "output_type": "stream",
     "text": [
      "Accuracy: 0.9957985828055433\n",
      "Precision: 0.5829694323144105\n",
      "Recall: 0.7761627906976745\n",
      "F1 Score: 0.6658354114713216\n",
      "Confusion Matrix:\n",
      "[[63253   191]\n",
      " [   77   267]]\n"
     ]
    }
   ],
   "source": [
    "import xgboost as xgb\n",
    "\n",
    "# class_weight\n",
    "count_class_0, count_class_1 = np.bincount(compound_disease['label'])\n",
    "ratio = count_class_0 / count_class_1\n",
    "\n",
    "# XGBoost 모델 생성 및 학습\n",
    "xgb_class_weight = xgb.XGBClassifier(scale_pos_weight=ratio,random_state=0)\n",
    "xgb_class_weight.fit(X_train, y_train)\n",
    "\n",
    "# 테스트 세트에 대한 예측\n",
    "y_pred = xgb_class_weight.predict(X_test)\n",
    "\n",
    "# 평가 지표 계산\n",
    "accuracy = accuracy_score(y_test, y_pred)\n",
    "precision = precision_score(y_test, y_pred)\n",
    "recall = recall_score(y_test, y_pred)\n",
    "f1 = f1_score(y_test, y_pred)\n",
    "conf_matrix = confusion_matrix(y_test, y_pred)\n",
    "\n",
    "# 결과 출력\n",
    "print(f\"Accuracy: {accuracy}\")\n",
    "print(f\"Precision: {precision}\")\n",
    "print(f\"Recall: {recall}\")\n",
    "print(f\"F1 Score: {f1}\")\n",
    "print(f\"Confusion Matrix:\\n{conf_matrix}\")\n"
   ]
  },
  {
   "cell_type": "code",
   "execution_count": 100,
   "metadata": {},
   "outputs": [],
   "source": [
    "Model.append('xgb_class_weight')\n",
    "Precision.append(precision)\n",
    "Recall.append(recall)\n",
    "F1.append(f1)"
   ]
  },
  {
   "cell_type": "markdown",
   "metadata": {},
   "source": [
    "#### -> precision 개선됨, 그러나 실제P 중 FN 개수가 많아져 recall이 낮아짐"
   ]
  },
  {
   "cell_type": "markdown",
   "metadata": {},
   "source": [
    "# Sampling & svm,xgboost"
   ]
  },
  {
   "cell_type": "code",
   "execution_count": 101,
   "metadata": {},
   "outputs": [],
   "source": [
    "from imblearn.under_sampling import RandomUnderSampler\n",
    "\n",
    "# 언더샘플링\n",
    "rus = RandomUnderSampler(random_state=0)\n",
    "X_rus_resampled, y_rus_resampled = rus.fit_resample(X_train, y_train)\n"
   ]
  },
  {
   "cell_type": "code",
   "execution_count": 102,
   "metadata": {},
   "outputs": [
    {
     "name": "stdout",
     "output_type": "stream",
     "text": [
      "148836 1602\n"
     ]
    }
   ],
   "source": [
    "print(len(X_train), len(X_rus_resampled))"
   ]
  },
  {
   "cell_type": "code",
   "execution_count": 103,
   "metadata": {},
   "outputs": [
    {
     "data": {
      "text/plain": [
       "(array([0., 1.]), array([801, 801]))"
      ]
     },
     "execution_count": 103,
     "metadata": {},
     "output_type": "execute_result"
    }
   ],
   "source": [
    "np.unique(y_rus_resampled, return_counts=True)"
   ]
  },
  {
   "cell_type": "code",
   "execution_count": 104,
   "metadata": {},
   "outputs": [
    {
     "name": "stdout",
     "output_type": "stream",
     "text": [
      "Accuracy: 0.9316329090110993\n",
      "Precision: 0.07165706973768395\n",
      "Recall: 0.9767441860465116\n",
      "F1 Score: 0.13351877607788595\n",
      "Confusion Matrix:\n",
      "[[59091  4353]\n",
      " [    8   336]]\n"
     ]
    }
   ],
   "source": [
    "# 언더샘플링 적용 svm\n",
    "svm_rus = SVC(random_state=0)\n",
    "svm_rus.fit(X_rus_resampled, y_rus_resampled)\n",
    "\n",
    "# 테스트 세트에 대한 예측\n",
    "y_pred = svm_rus.predict(X_test)\n",
    "\n",
    "# 평가 지표 계산\n",
    "accuracy = accuracy_score(y_test, y_pred)\n",
    "precision = precision_score(y_test, y_pred)\n",
    "recall = recall_score(y_test, y_pred)\n",
    "f1 = f1_score(y_test, y_pred)\n",
    "conf_matrix = confusion_matrix(y_test, y_pred)\n",
    "\n",
    "# 결과 출력\n",
    "print(f\"Accuracy: {accuracy}\")\n",
    "print(f\"Precision: {precision}\")\n",
    "print(f\"Recall: {recall}\")\n",
    "print(f\"F1 Score: {f1}\")\n",
    "print(f\"Confusion Matrix:\\n{conf_matrix}\")"
   ]
  },
  {
   "cell_type": "code",
   "execution_count": 105,
   "metadata": {},
   "outputs": [],
   "source": [
    "Model.append('svm_rus')\n",
    "Precision.append(precision)\n",
    "Recall.append(recall)\n",
    "F1.append(f1)"
   ]
  },
  {
   "cell_type": "code",
   "execution_count": 106,
   "metadata": {},
   "outputs": [
    {
     "name": "stdout",
     "output_type": "stream",
     "text": [
      "Accuracy: 0.9234338747099768\n",
      "Precision: 0.06362937331795464\n",
      "Recall: 0.9622093023255814\n",
      "F1 Score: 0.11936530833032817\n",
      "Confusion Matrix:\n",
      "[[58573  4871]\n",
      " [   13   331]]\n"
     ]
    }
   ],
   "source": [
    "# 언더 샘플링 적용 xgboost\n",
    "xgb_rus = xgb.XGBClassifier(random_state=0)\n",
    "xgb_rus.fit(X_rus_resampled, y_rus_resampled)\n",
    "\n",
    "# 테스트 세트에 대한 예측\n",
    "y_pred = xgb_rus.predict(X_test)\n",
    "\n",
    "# 평가 지표 계산\n",
    "accuracy = accuracy_score(y_test, y_pred)\n",
    "precision = precision_score(y_test, y_pred)\n",
    "recall = recall_score(y_test, y_pred)\n",
    "f1 = f1_score(y_test, y_pred)\n",
    "conf_matrix = confusion_matrix(y_test, y_pred)\n",
    "\n",
    "# 결과 출력\n",
    "print(f\"Accuracy: {accuracy}\")\n",
    "print(f\"Precision: {precision}\")\n",
    "print(f\"Recall: {recall}\")\n",
    "print(f\"F1 Score: {f1}\")\n",
    "print(f\"Confusion Matrix:\\n{conf_matrix}\")"
   ]
  },
  {
   "cell_type": "code",
   "execution_count": 107,
   "metadata": {},
   "outputs": [],
   "source": [
    "Model.append('xgb_rus')\n",
    "Precision.append(precision)\n",
    "Recall.append(recall)\n",
    "F1.append(f1)"
   ]
  },
  {
   "cell_type": "markdown",
   "metadata": {},
   "source": [
    "#### -> 언더샘플링 효과 없음"
   ]
  },
  {
   "cell_type": "code",
   "execution_count": 108,
   "metadata": {},
   "outputs": [],
   "source": [
    "from imblearn.over_sampling import RandomOverSampler\n",
    "\n",
    "# 오버샘플링\n",
    "ros = RandomOverSampler(random_state=0)\n",
    "X_ros_resampled, y_ros_resampled = ros.fit_resample(X_train, y_train)\n",
    "\n"
   ]
  },
  {
   "cell_type": "code",
   "execution_count": 109,
   "metadata": {},
   "outputs": [
    {
     "name": "stdout",
     "output_type": "stream",
     "text": [
      "148836 296070\n"
     ]
    }
   ],
   "source": [
    "print(len(X_train), len(X_ros_resampled))"
   ]
  },
  {
   "cell_type": "code",
   "execution_count": 110,
   "metadata": {},
   "outputs": [
    {
     "data": {
      "text/plain": [
       "(array([0., 1.]), array([148035, 148035]))"
      ]
     },
     "execution_count": 110,
     "metadata": {},
     "output_type": "execute_result"
    }
   ],
   "source": [
    "np.unique(y_ros_resampled, return_counts=True)"
   ]
  },
  {
   "cell_type": "code",
   "execution_count": 112,
   "metadata": {},
   "outputs": [],
   "source": [
    "# 오버샘플링 적용 svm\n",
    "svm_ros = SVC(random_state=0, probability=True)\n",
    "svm_ros.fit(X_ros_resampled, y_ros_resampled)\n",
    "\n",
    "# 테스트 세트에 대한 예측\n",
    "y_pred = svm_ros.predict(X_test)\n",
    "\n",
    "# 평가 지표 계산\n",
    "accuracy = accuracy_score(y_test, y_pred)\n",
    "precision = precision_score(y_test, y_pred)\n",
    "recall = recall_score(y_test, y_pred)\n",
    "f1 = f1_score(y_test, y_pred)\n",
    "conf_matrix = confusion_matrix(y_test, y_pred)\n",
    "\n",
    "# 결과 출력\n",
    "print(f\"Accuracy: {accuracy}\")\n",
    "print(f\"Precision: {precision}\")\n",
    "print(f\"Recall: {recall}\")\n",
    "print(f\"F1 Score: {f1}\")\n",
    "print(f\"Confusion Matrix:\\n{conf_matrix}\")"
   ]
  },
  {
   "cell_type": "code",
   "execution_count": 73,
   "metadata": {},
   "outputs": [],
   "source": [
    "Model.append('svm_ros')\n",
    "Precision.append(precision)\n",
    "Recall.append(recall)\n",
    "F1.append(f1)"
   ]
  },
  {
   "cell_type": "code",
   "execution_count": 74,
   "metadata": {},
   "outputs": [
    {
     "name": "stdout",
     "output_type": "stream",
     "text": [
      "Accuracy: 0.9963002445601054\n",
      "Precision: 0.6227272727272727\n",
      "Recall: 0.7965116279069767\n",
      "F1 Score: 0.6989795918367346\n",
      "Confusion Matrix:\n",
      "[[63278   166]\n",
      " [   70   274]]\n"
     ]
    }
   ],
   "source": [
    "\n",
    "# 오버 샘플링 적용 \n",
    "xgb_ros = xgb.XGBClassifier(random_state=0)\n",
    "xgb_ros.fit(X_ros_resampled, y_ros_resampled)\n",
    "\n",
    "# 테스트 세트에 대한 예측\n",
    "y_pred = xgb_ros.predict(X_test)\n",
    "\n",
    "# 평가 지표 계산\n",
    "accuracy = accuracy_score(y_test, y_pred)\n",
    "precision = precision_score(y_test, y_pred)\n",
    "recall = recall_score(y_test, y_pred)\n",
    "f1 = f1_score(y_test, y_pred)\n",
    "conf_matrix = confusion_matrix(y_test, y_pred)\n",
    "\n",
    "# 결과 출력\n",
    "print(f\"Accuracy: {accuracy}\")\n",
    "print(f\"Precision: {precision}\")\n",
    "print(f\"Recall: {recall}\")\n",
    "print(f\"F1 Score: {f1}\")\n",
    "print(f\"Confusion Matrix:\\n{conf_matrix}\")"
   ]
  },
  {
   "cell_type": "code",
   "execution_count": 75,
   "metadata": {},
   "outputs": [],
   "source": [
    "Model.append('xgb_ros')\n",
    "Precision.append(precision)\n",
    "Recall.append(recall)\n",
    "F1.append(f1)"
   ]
  },
  {
   "cell_type": "code",
   "execution_count": 111,
   "metadata": {},
   "outputs": [
    {
     "data": {
      "text/html": [
       "<div>\n",
       "<style scoped>\n",
       "    .dataframe tbody tr th:only-of-type {\n",
       "        vertical-align: middle;\n",
       "    }\n",
       "\n",
       "    .dataframe tbody tr th {\n",
       "        vertical-align: top;\n",
       "    }\n",
       "\n",
       "    .dataframe thead th {\n",
       "        text-align: right;\n",
       "    }\n",
       "</style>\n",
       "<table border=\"1\" class=\"dataframe\">\n",
       "  <thead>\n",
       "    <tr style=\"text-align: right;\">\n",
       "      <th></th>\n",
       "      <th>Model</th>\n",
       "      <th>Precision</th>\n",
       "      <th>Recall</th>\n",
       "      <th>F1</th>\n",
       "    </tr>\n",
       "  </thead>\n",
       "  <tbody>\n",
       "    <tr>\n",
       "      <th>0</th>\n",
       "      <td>lr</td>\n",
       "      <td>0.500000</td>\n",
       "      <td>0.005814</td>\n",
       "      <td>0.011494</td>\n",
       "    </tr>\n",
       "    <tr>\n",
       "      <th>1</th>\n",
       "      <td>lr_class_weight</td>\n",
       "      <td>0.027007</td>\n",
       "      <td>0.869186</td>\n",
       "      <td>0.052387</td>\n",
       "    </tr>\n",
       "    <tr>\n",
       "      <th>2</th>\n",
       "      <td>svm_class_weight</td>\n",
       "      <td>0.537097</td>\n",
       "      <td>0.968023</td>\n",
       "      <td>0.690871</td>\n",
       "    </tr>\n",
       "    <tr>\n",
       "      <th>3</th>\n",
       "      <td>xgb_class_weight</td>\n",
       "      <td>0.582969</td>\n",
       "      <td>0.776163</td>\n",
       "      <td>0.665835</td>\n",
       "    </tr>\n",
       "    <tr>\n",
       "      <th>4</th>\n",
       "      <td>svm_rus</td>\n",
       "      <td>0.071657</td>\n",
       "      <td>0.976744</td>\n",
       "      <td>0.133519</td>\n",
       "    </tr>\n",
       "    <tr>\n",
       "      <th>5</th>\n",
       "      <td>xgb_rus</td>\n",
       "      <td>0.063629</td>\n",
       "      <td>0.962209</td>\n",
       "      <td>0.119365</td>\n",
       "    </tr>\n",
       "  </tbody>\n",
       "</table>\n",
       "</div>"
      ],
      "text/plain": [
       "              Model  Precision    Recall        F1\n",
       "0                lr   0.500000  0.005814  0.011494\n",
       "1   lr_class_weight   0.027007  0.869186  0.052387\n",
       "2  svm_class_weight   0.537097  0.968023  0.690871\n",
       "3  xgb_class_weight   0.582969  0.776163  0.665835\n",
       "4           svm_rus   0.071657  0.976744  0.133519\n",
       "5           xgb_rus   0.063629  0.962209  0.119365"
      ]
     },
     "execution_count": 111,
     "metadata": {},
     "output_type": "execute_result"
    }
   ],
   "source": [
    "Learning = pd.DataFrame({'Model':Model,'Precision':Precision,'Recall':Recall, 'F1':F1})\n",
    "Learning"
   ]
  },
  {
   "cell_type": "markdown",
   "metadata": {},
   "source": [
    "#### -> 오버샘플링, svm이 가장 좋은 성능을 보인다"
   ]
  },
  {
   "cell_type": "markdown",
   "metadata": {},
   "source": [
    "# 모델 선택 - 가장 높은 F1 스코어와 해당하는 임계값으로 예측 조정"
   ]
  },
  {
   "cell_type": "code",
   "execution_count": 79,
   "metadata": {},
   "outputs": [
    {
     "ename": "AttributeError",
     "evalue": "predict_proba is not available when  probability=False",
     "output_type": "error",
     "traceback": [
      "\u001b[0;31m---------------------------------------------------------------------------\u001b[0m",
      "\u001b[0;31mAttributeError\u001b[0m                            Traceback (most recent call last)",
      "\u001b[1;32m/Users/anhyelin/DSCD8/code/데이터 변환2.ipynb 셀 85\u001b[0m line \u001b[0;36m5\n\u001b[1;32m      <a href='vscode-notebook-cell:/Users/anhyelin/DSCD8/code/%EB%8D%B0%EC%9D%B4%ED%84%B0%20%EB%B3%80%ED%99%982.ipynb#X60sZmlsZQ%3D%3D?line=1'>2</a>\u001b[0m \u001b[39mfrom\u001b[39;00m \u001b[39msklearn\u001b[39;00m\u001b[39m.\u001b[39;00m\u001b[39mmetrics\u001b[39;00m \u001b[39mimport\u001b[39;00m f1_score, precision_recall_curve\n\u001b[1;32m      <a href='vscode-notebook-cell:/Users/anhyelin/DSCD8/code/%EB%8D%B0%EC%9D%B4%ED%84%B0%20%EB%B3%80%ED%99%982.ipynb#X60sZmlsZQ%3D%3D?line=3'>4</a>\u001b[0m \u001b[39m# XGBoost 모델에서 예측된 확률 값\u001b[39;00m\n\u001b[0;32m----> <a href='vscode-notebook-cell:/Users/anhyelin/DSCD8/code/%EB%8D%B0%EC%9D%B4%ED%84%B0%20%EB%B3%80%ED%99%982.ipynb#X60sZmlsZQ%3D%3D?line=4'>5</a>\u001b[0m y_proba \u001b[39m=\u001b[39m svm_ros\u001b[39m.\u001b[39;49mpredict_proba(X_test)[:, \u001b[39m1\u001b[39m]\n\u001b[1;32m      <a href='vscode-notebook-cell:/Users/anhyelin/DSCD8/code/%EB%8D%B0%EC%9D%B4%ED%84%B0%20%EB%B3%80%ED%99%982.ipynb#X60sZmlsZQ%3D%3D?line=6'>7</a>\u001b[0m \u001b[39m# Precision-Recall 곡선 생성\u001b[39;00m\n\u001b[1;32m      <a href='vscode-notebook-cell:/Users/anhyelin/DSCD8/code/%EB%8D%B0%EC%9D%B4%ED%84%B0%20%EB%B3%80%ED%99%982.ipynb#X60sZmlsZQ%3D%3D?line=7'>8</a>\u001b[0m precision, recall, thresholds \u001b[39m=\u001b[39m precision_recall_curve(y_test, y_proba)\n",
      "File \u001b[0;32m/Applications/miniconda3/envs/myenv/lib/python3.10/site-packages/sklearn/utils/_available_if.py:31\u001b[0m, in \u001b[0;36m_AvailableIfDescriptor.__get__\u001b[0;34m(self, obj, owner)\u001b[0m\n\u001b[1;32m     25\u001b[0m attr_err \u001b[39m=\u001b[39m \u001b[39mAttributeError\u001b[39;00m(\n\u001b[1;32m     26\u001b[0m     \u001b[39mf\u001b[39m\u001b[39m\"\u001b[39m\u001b[39mThis \u001b[39m\u001b[39m{\u001b[39;00m\u001b[39mrepr\u001b[39m(owner\u001b[39m.\u001b[39m\u001b[39m__name__\u001b[39m)\u001b[39m}\u001b[39;00m\u001b[39m has no attribute \u001b[39m\u001b[39m{\u001b[39;00m\u001b[39mrepr\u001b[39m(\u001b[39mself\u001b[39m\u001b[39m.\u001b[39mattribute_name)\u001b[39m}\u001b[39;00m\u001b[39m\"\u001b[39m\n\u001b[1;32m     27\u001b[0m )\n\u001b[1;32m     28\u001b[0m \u001b[39mif\u001b[39;00m obj \u001b[39mis\u001b[39;00m \u001b[39mnot\u001b[39;00m \u001b[39mNone\u001b[39;00m:\n\u001b[1;32m     29\u001b[0m     \u001b[39m# delegate only on instances, not the classes.\u001b[39;00m\n\u001b[1;32m     30\u001b[0m     \u001b[39m# this is to allow access to the docstrings.\u001b[39;00m\n\u001b[0;32m---> 31\u001b[0m     \u001b[39mif\u001b[39;00m \u001b[39mnot\u001b[39;00m \u001b[39mself\u001b[39;49m\u001b[39m.\u001b[39;49mcheck(obj):\n\u001b[1;32m     32\u001b[0m         \u001b[39mraise\u001b[39;00m attr_err\n\u001b[1;32m     33\u001b[0m     out \u001b[39m=\u001b[39m MethodType(\u001b[39mself\u001b[39m\u001b[39m.\u001b[39mfn, obj)\n",
      "File \u001b[0;32m/Applications/miniconda3/envs/myenv/lib/python3.10/site-packages/sklearn/svm/_base.py:827\u001b[0m, in \u001b[0;36mBaseSVC._check_proba\u001b[0;34m(self)\u001b[0m\n\u001b[1;32m    825\u001b[0m \u001b[39mdef\u001b[39;00m \u001b[39m_check_proba\u001b[39m(\u001b[39mself\u001b[39m):\n\u001b[1;32m    826\u001b[0m     \u001b[39mif\u001b[39;00m \u001b[39mnot\u001b[39;00m \u001b[39mself\u001b[39m\u001b[39m.\u001b[39mprobability:\n\u001b[0;32m--> 827\u001b[0m         \u001b[39mraise\u001b[39;00m \u001b[39mAttributeError\u001b[39;00m(\n\u001b[1;32m    828\u001b[0m             \u001b[39m\"\u001b[39m\u001b[39mpredict_proba is not available when  probability=False\u001b[39m\u001b[39m\"\u001b[39m\n\u001b[1;32m    829\u001b[0m         )\n\u001b[1;32m    830\u001b[0m     \u001b[39mif\u001b[39;00m \u001b[39mself\u001b[39m\u001b[39m.\u001b[39m_impl \u001b[39mnot\u001b[39;00m \u001b[39min\u001b[39;00m (\u001b[39m\"\u001b[39m\u001b[39mc_svc\u001b[39m\u001b[39m\"\u001b[39m, \u001b[39m\"\u001b[39m\u001b[39mnu_svc\u001b[39m\u001b[39m\"\u001b[39m):\n\u001b[1;32m    831\u001b[0m         \u001b[39mraise\u001b[39;00m \u001b[39mAttributeError\u001b[39;00m(\u001b[39m\"\u001b[39m\u001b[39mpredict_proba only implemented for SVC and NuSVC\u001b[39m\u001b[39m\"\u001b[39m)\n",
      "\u001b[0;31mAttributeError\u001b[0m: predict_proba is not available when  probability=False"
     ]
    }
   ],
   "source": [
    "import numpy as np\n",
    "from sklearn.metrics import precision_recall_curve\n",
    "\n",
    "# svm_ros 모델에서 예측된 확률 값\n",
    "y_proba = svm_ros.predict_proba(X_test)[:, 1]\n",
    "\n",
    "# Precision-Recall 곡선 생성\n",
    "precision, recall, thresholds = precision_recall_curve(y_test, y_proba)\n",
    "\n",
    "# F1 스코어 계산\n",
    "f1_scores = 2 * (precision * recall) / (precision + recall)\n",
    "\n",
    "# 가장 높은 F1 스코어와 해당하는 임계값\n",
    "best_f1_score = np.max(f1_scores)\n",
    "best_threshold = thresholds[np.argmax(f1_scores)]\n",
    "\n",
    "print(f\"가장 높은 F1 스코어: {best_f1_score:.4f} (임계값: {best_threshold:.4f})\")\n"
   ]
  },
  {
   "cell_type": "code",
   "execution_count": null,
   "metadata": {},
   "outputs": [
    {
     "name": "stdout",
     "output_type": "stream",
     "text": [
      "              precision    recall  f1-score   support\n",
      "\n",
      "         0.0       1.00      1.00      1.00     63444\n",
      "         1.0       0.78      0.70      0.74       344\n",
      "\n",
      "    accuracy                           1.00     63788\n",
      "   macro avg       0.89      0.85      0.87     63788\n",
      "weighted avg       1.00      1.00      1.00     63788\n",
      "\n",
      "Accuracy: 0.9973349219288894\n",
      "Precision: 0.7824675324675324\n",
      "Recall: 0.7005813953488372\n",
      "F1 Score: 0.7392638036809815\n",
      "Confusion Matrix:\n",
      "[[63377    67]\n",
      " [  103   241]]\n"
     ]
    }
   ],
   "source": [
    "from sklearn.metrics import classification_report\n",
    "\n",
    "# 임계값 조정\n",
    "threshold = 0.7634  \n",
    "y_pred_adjusted = (y_proba > threshold).astype(int)\n",
    "\n",
    "# 조정된 예측\n",
    "print(classification_report(y_test, y_pred_adjusted))\n",
    "\n",
    "# 평가 지표 계산\n",
    "accuracy = accuracy_score(y_test, y_pred_adjusted)\n",
    "precision = precision_score(y_test, y_pred_adjusted)\n",
    "recall = recall_score(y_test, y_pred_adjusted)\n",
    "f1 = f1_score(y_test, y_pred_adjusted)\n",
    "conf_matrix = confusion_matrix(y_test, y_pred_adjusted)\n",
    "\n",
    "# 결과 출력\n",
    "print(f\"Accuracy: {accuracy}\")\n",
    "print(f\"Precision: {precision}\")\n",
    "print(f\"Recall: {recall}\")\n",
    "print(f\"F1 Score: {f1}\")\n",
    "print(f\"Confusion Matrix:\\n{conf_matrix}\")"
   ]
  },
  {
   "cell_type": "markdown",
   "metadata": {},
   "source": [
    "# ROC Curve"
   ]
  },
  {
   "cell_type": "code",
   "execution_count": null,
   "metadata": {},
   "outputs": [
    {
     "data": {
      "image/png": "[encoded data removed]",
      "text/plain": [
       "<Figure size 800x600 with 2 Axes>"
      ]
     },
     "metadata": {},
     "output_type": "display_data"
    }
   ],
   "source": [
    "import matplotlib.pyplot as plt\n",
    "from sklearn.metrics import roc_curve, roc_auc_score\n",
    "\n",
    "# ROC 곡선 계산\n",
    "fpr, tpr, thresholds = roc_curve(y_test, y_proba)\n",
    "\n",
    "# AUC 계산\n",
    "auc = roc_auc_score(y_test, y_proba)\n",
    "\n",
    "# ROC 곡선 그리기\n",
    "plt.figure(figsize=(8, 6))\n",
    "plt.plot(fpr, tpr, label=f'AUC = {auc:.2f}')\n",
    "plt.plot([0, 1], [0, 1], linestyle='--', color='gray', label='Random')\n",
    "plt.scatter(fpr, tpr, c=thresholds, cmap='viridis', label='Threshold', marker='o')\n",
    "plt.xlabel('False Positive Rate')\n",
    "plt.ylabel('True Positive Rate')\n",
    "plt.title('ROC Curve at Threshold = 0.7634')\n",
    "plt.legend()\n",
    "plt.colorbar(label='Threshold')\n",
    "plt.show()"
   ]
  },
  {
   "cell_type": "code",
   "execution_count": null,
   "metadata": {},
   "outputs": [
    {
     "data": {
      "image/png": "[encoded data removed]",
      "text/plain": [
       "<Figure size 800x600 with 1 Axes>"
      ]
     },
     "metadata": {},
     "output_type": "display_data"
    }
   ],
   "source": [
    "import sklearn.metrics as sm\n",
    "import matplotlib.pyplot as plt\n",
    "\n",
    "y_probs = svm_ros.predict_proba(X_test)[:, 1]\n",
    "fpr, tpr, thresholds = sm.roc_curve(y_test, y_pred_adjusted)\n",
    "\n",
    "# AUC (Area Under the ROC Curve) 계산\n",
    "auc = sm.roc_auc_score(y_test, y_pred_adjusted)\n",
    "\n",
    "# ROC 곡선 그리기\n",
    "plt.figure(figsize=(8, 6))\n",
    "plt.plot(fpr, tpr, color='blue', lw=2, label=f'ROC curve (AUC = {auc:.2f})')\n",
    "plt.plot([0, 1], [0, 1], color='gray', linestyle='--')\n",
    "plt.xlim([0.0, 1.0])\n",
    "plt.ylim([0.0, 1.05])\n",
    "plt.xlabel('False Positive Rate')\n",
    "plt.ylabel('True Positive Rate')\n",
    "plt.title('Receiver Operating Characteristic (ROC) Curve')\n",
    "plt.legend(loc='lower right')\n",
    "plt.show()"
   ]
  },
  {
   "cell_type": "markdown",
   "metadata": {},
   "source": [
    "# 약물재창출"
   ]
  },
  {
   "cell_type": "code",
   "execution_count": null,
   "metadata": {},
   "outputs": [
    {
     "name": "stderr",
     "output_type": "stream",
     "text": [
      "/var/folders/h7/80308m4j7kg6zp9y8km0_ydm0000gn/T/ipykernel_42629/1419689956.py:14: SettingWithCopyWarning: \n",
      "A value is trying to be set on a copy of a slice from a DataFrame.\n",
      "Try using .loc[row_indexer,col_indexer] = value instead\n",
      "\n",
      "See the caveats in the documentation: https://pandas.pydata.org/pandas-docs/stable/user_guide/indexing.html#returning-a-view-versus-a-copy\n",
      "  df['label'] = prediction\n"
     ]
    },
    {
     "data": {
      "text/html": [
       "<div>\n",
       "<style scoped>\n",
       "    .dataframe tbody tr th:only-of-type {\n",
       "        vertical-align: middle;\n",
       "    }\n",
       "\n",
       "    .dataframe tbody tr th {\n",
       "        vertical-align: top;\n",
       "    }\n",
       "\n",
       "    .dataframe thead th {\n",
       "        text-align: right;\n",
       "    }\n",
       "</style>\n",
       "<table border=\"1\" class=\"dataframe\">\n",
       "  <thead>\n",
       "    <tr style=\"text-align: right;\">\n",
       "      <th></th>\n",
       "      <th>id</th>\n",
       "      <th>name</th>\n",
       "      <th>kind</th>\n",
       "    </tr>\n",
       "  </thead>\n",
       "  <tbody>\n",
       "  </tbody>\n",
       "</table>\n",
       "</div>"
      ],
      "text/plain": [
       "Empty DataFrame\n",
       "Columns: [id, name, kind]\n",
       "Index: []"
      ]
     },
     "execution_count": 39,
     "metadata": {},
     "output_type": "execute_result"
    }
   ],
   "source": [
    "#Disease::DOID:1612 = breast cancer\n",
    "import numpy as np\n",
    "input2 = []\n",
    "ddf = pd.DataFrame(columns=['compound', 'disease', 'label'])\n",
    "for data in compound_disease_label:\n",
    "    if data[1]=='Disease::DOID:1612': \n",
    "        input2.append(np.vstack([model.wv[data[0]], model.wv['Disease::DOID:1612']]).reshape(120,))\n",
    "        ddf = pd.concat([ddf, pd.DataFrame({'compound': [data[0]], 'disease': ['Disease::DOID:1612'], 'label': 0})], ignore_index=True)\n",
    "\n",
    "# XGBoost 모델에서 예측된 확률 값\n",
    "prediction = xg3.predict_proba(input2)[:, 1]\n",
    "\n",
    "df = compound_disease[compound_disease['target'] == 'Disease::DOID:1612']\n",
    "df['label'] = prediction\n",
    "\n",
    "# 예측한 결과, 'label' 열 값이 1인 행 출력\n",
    "selected_rows = df[df['label'] == 1]\n",
    "\n",
    "# 정답 label이 1인 conpound 출력\n",
    "rows = connected_compound_disease[connected_compound_disease['target']=='Disease::DOID:1612']\n",
    "rows_list = rows['source'].tolist()\n",
    "\n",
    "compound_list = []\n",
    "for i in selected_rows['source']:\n",
    "    if i not in rows_list:\n",
    "        compound_list.append(i)\n",
    "\n",
    "#에측결과에서 실제결과 값을 제외한 결과\n",
    "nodes[nodes['id'].isin(compound_list)]"
   ]
  },
  {
   "cell_type": "code",
   "execution_count": null,
   "metadata": {
    "scrolled": true
   },
   "outputs": [
    {
     "name": "stderr",
     "output_type": "stream",
     "text": [
      "/var/folders/h7/80308m4j7kg6zp9y8km0_ydm0000gn/T/ipykernel_42629/2087309696.py:5: SettingWithCopyWarning: \n",
      "A value is trying to be set on a copy of a slice from a DataFrame.\n",
      "Try using .loc[row_indexer,col_indexer] = value instead\n",
      "\n",
      "See the caveats in the documentation: https://pandas.pydata.org/pandas-docs/stable/user_guide/indexing.html#returning-a-view-versus-a-copy\n",
      "  df['label_prob'] = y_probabilities.round(4)\n"
     ]
    },
    {
     "data": {
      "text/html": [
       "<div>\n",
       "<style scoped>\n",
       "    .dataframe tbody tr th:only-of-type {\n",
       "        vertical-align: middle;\n",
       "    }\n",
       "\n",
       "    .dataframe tbody tr th {\n",
       "        vertical-align: top;\n",
       "    }\n",
       "\n",
       "    .dataframe thead th {\n",
       "        text-align: right;\n",
       "    }\n",
       "</style>\n",
       "<table border=\"1\" class=\"dataframe\">\n",
       "  <thead>\n",
       "    <tr style=\"text-align: right;\">\n",
       "      <th></th>\n",
       "      <th>source</th>\n",
       "      <th>target</th>\n",
       "      <th>label</th>\n",
       "      <th>label_prob</th>\n",
       "    </tr>\n",
       "  </thead>\n",
       "  <tbody>\n",
       "    <tr>\n",
       "      <th>141168</th>\n",
       "      <td>Compound::DB01185</td>\n",
       "      <td>Disease::DOID:1612</td>\n",
       "      <td>9.990056e-01</td>\n",
       "      <td>0.9990</td>\n",
       "    </tr>\n",
       "    <tr>\n",
       "      <th>150895</th>\n",
       "      <td>Compound::DB01259</td>\n",
       "      <td>Disease::DOID:1612</td>\n",
       "      <td>9.989334e-01</td>\n",
       "      <td>0.9989</td>\n",
       "    </tr>\n",
       "    <tr>\n",
       "      <th>179254</th>\n",
       "      <td>Compound::DB04845</td>\n",
       "      <td>Disease::DOID:1612</td>\n",
       "      <td>9.987736e-01</td>\n",
       "      <td>0.9988</td>\n",
       "    </tr>\n",
       "    <tr>\n",
       "      <th>202270</th>\n",
       "      <td>Compound::DB08871</td>\n",
       "      <td>Disease::DOID:1612</td>\n",
       "      <td>9.986876e-01</td>\n",
       "      <td>0.9987</td>\n",
       "    </tr>\n",
       "    <tr>\n",
       "      <th>43898</th>\n",
       "      <td>Compound::DB00445</td>\n",
       "      <td>Disease::DOID:1612</td>\n",
       "      <td>9.985880e-01</td>\n",
       "      <td>0.9986</td>\n",
       "    </tr>\n",
       "    <tr>\n",
       "      <th>...</th>\n",
       "      <td>...</td>\n",
       "      <td>...</td>\n",
       "      <td>...</td>\n",
       "      <td>...</td>\n",
       "    </tr>\n",
       "    <tr>\n",
       "      <th>53762</th>\n",
       "      <td>Compound::DB00524</td>\n",
       "      <td>Disease::DOID:1612</td>\n",
       "      <td>5.481537e-06</td>\n",
       "      <td>0.0000</td>\n",
       "    </tr>\n",
       "    <tr>\n",
       "      <th>89519</th>\n",
       "      <td>Compound::DB00792</td>\n",
       "      <td>Disease::DOID:1612</td>\n",
       "      <td>4.961039e-05</td>\n",
       "      <td>0.0000</td>\n",
       "    </tr>\n",
       "    <tr>\n",
       "      <th>140894</th>\n",
       "      <td>Compound::DB01183</td>\n",
       "      <td>Disease::DOID:1612</td>\n",
       "      <td>7.714259e-06</td>\n",
       "      <td>0.0000</td>\n",
       "    </tr>\n",
       "    <tr>\n",
       "      <th>81025</th>\n",
       "      <td>Compound::DB00728</td>\n",
       "      <td>Disease::DOID:1612</td>\n",
       "      <td>3.587482e-07</td>\n",
       "      <td>0.0000</td>\n",
       "    </tr>\n",
       "    <tr>\n",
       "      <th>148018</th>\n",
       "      <td>Compound::DB01236</td>\n",
       "      <td>Disease::DOID:1612</td>\n",
       "      <td>5.283280e-06</td>\n",
       "      <td>0.0000</td>\n",
       "    </tr>\n",
       "  </tbody>\n",
       "</table>\n",
       "<p>1552 rows × 4 columns</p>\n",
       "</div>"
      ],
      "text/plain": [
       "                   source              target         label  label_prob\n",
       "141168  Compound::DB01185  Disease::DOID:1612  9.990056e-01      0.9990\n",
       "150895  Compound::DB01259  Disease::DOID:1612  9.989334e-01      0.9989\n",
       "179254  Compound::DB04845  Disease::DOID:1612  9.987736e-01      0.9988\n",
       "202270  Compound::DB08871  Disease::DOID:1612  9.986876e-01      0.9987\n",
       "43898   Compound::DB00445  Disease::DOID:1612  9.985880e-01      0.9986\n",
       "...                   ...                 ...           ...         ...\n",
       "53762   Compound::DB00524  Disease::DOID:1612  5.481537e-06      0.0000\n",
       "89519   Compound::DB00792  Disease::DOID:1612  4.961039e-05      0.0000\n",
       "140894  Compound::DB01183  Disease::DOID:1612  7.714259e-06      0.0000\n",
       "81025   Compound::DB00728  Disease::DOID:1612  3.587482e-07      0.0000\n",
       "148018  Compound::DB01236  Disease::DOID:1612  5.283280e-06      0.0000\n",
       "\n",
       "[1552 rows x 4 columns]"
      ]
     },
     "execution_count": 40,
     "metadata": {},
     "output_type": "execute_result"
    }
   ],
   "source": [
    "# 테스트 세트에 대한 예측 확률 얻기\n",
    "y_probabilities = xg3.predict_proba(input2)[:, 1]  # 1에 대한 예측 확률을 얻습니다.\n",
    "\n",
    "# 'label_prob' 열에 예측 확률 추가\n",
    "df['label_prob'] = y_probabilities.round(4)\n",
    "\n",
    "# label_prob를 기준으로 데이터프레임 정렬\n",
    "df_sorted = df.sort_values(by='label_prob', ascending=False)\n",
    "\n",
    "df_sorted"
   ]
  },
  {
   "cell_type": "code",
   "execution_count": null,
   "metadata": {},
   "outputs": [
    {
     "data": {
      "text/html": [
       "<div>\n",
       "<style scoped>\n",
       "    .dataframe tbody tr th:only-of-type {\n",
       "        vertical-align: middle;\n",
       "    }\n",
       "\n",
       "    .dataframe tbody tr th {\n",
       "        vertical-align: top;\n",
       "    }\n",
       "\n",
       "    .dataframe thead th {\n",
       "        text-align: right;\n",
       "    }\n",
       "</style>\n",
       "<table border=\"1\" class=\"dataframe\">\n",
       "  <thead>\n",
       "    <tr style=\"text-align: right;\">\n",
       "      <th></th>\n",
       "      <th>source</th>\n",
       "      <th>target</th>\n",
       "      <th>label</th>\n",
       "      <th>label_prob</th>\n",
       "    </tr>\n",
       "  </thead>\n",
       "  <tbody>\n",
       "    <tr>\n",
       "      <th>82806</th>\n",
       "      <td>Compound::DB00741</td>\n",
       "      <td>Disease::DOID:1612</td>\n",
       "      <td>0.989126</td>\n",
       "      <td>0.9891</td>\n",
       "    </tr>\n",
       "    <tr>\n",
       "      <th>87053</th>\n",
       "      <td>Compound::DB00773</td>\n",
       "      <td>Disease::DOID:1612</td>\n",
       "      <td>0.947384</td>\n",
       "      <td>0.9474</td>\n",
       "    </tr>\n",
       "    <tr>\n",
       "      <th>68421</th>\n",
       "      <td>Compound::DB00635</td>\n",
       "      <td>Disease::DOID:1612</td>\n",
       "      <td>0.874661</td>\n",
       "      <td>0.8747</td>\n",
       "    </tr>\n",
       "    <tr>\n",
       "      <th>112809</th>\n",
       "      <td>Compound::DB00970</td>\n",
       "      <td>Disease::DOID:1612</td>\n",
       "      <td>0.764458</td>\n",
       "      <td>0.7645</td>\n",
       "    </tr>\n",
       "    <tr>\n",
       "      <th>120892</th>\n",
       "      <td>Compound::DB01030</td>\n",
       "      <td>Disease::DOID:1612</td>\n",
       "      <td>0.748054</td>\n",
       "      <td>0.7481</td>\n",
       "    </tr>\n",
       "    <tr>\n",
       "      <th>140620</th>\n",
       "      <td>Compound::DB01181</td>\n",
       "      <td>Disease::DOID:1612</td>\n",
       "      <td>0.699791</td>\n",
       "      <td>0.6998</td>\n",
       "    </tr>\n",
       "    <tr>\n",
       "      <th>102945</th>\n",
       "      <td>Compound::DB00894</td>\n",
       "      <td>Disease::DOID:1612</td>\n",
       "      <td>0.648202</td>\n",
       "      <td>0.6482</td>\n",
       "    </tr>\n",
       "    <tr>\n",
       "      <th>195009</th>\n",
       "      <td>Compound::DB06772</td>\n",
       "      <td>Disease::DOID:1612</td>\n",
       "      <td>0.642905</td>\n",
       "      <td>0.6429</td>\n",
       "    </tr>\n",
       "    <tr>\n",
       "      <th>142675</th>\n",
       "      <td>Compound::DB01196</td>\n",
       "      <td>Disease::DOID:1612</td>\n",
       "      <td>0.569775</td>\n",
       "      <td>0.5698</td>\n",
       "    </tr>\n",
       "    <tr>\n",
       "      <th>133770</th>\n",
       "      <td>Compound::DB01128</td>\n",
       "      <td>Disease::DOID:1612</td>\n",
       "      <td>0.544661</td>\n",
       "      <td>0.5447</td>\n",
       "    </tr>\n",
       "  </tbody>\n",
       "</table>\n",
       "</div>"
      ],
      "text/plain": [
       "                   source              target     label  label_prob\n",
       "82806   Compound::DB00741  Disease::DOID:1612  0.989126      0.9891\n",
       "87053   Compound::DB00773  Disease::DOID:1612  0.947384      0.9474\n",
       "68421   Compound::DB00635  Disease::DOID:1612  0.874661      0.8747\n",
       "112809  Compound::DB00970  Disease::DOID:1612  0.764458      0.7645\n",
       "120892  Compound::DB01030  Disease::DOID:1612  0.748054      0.7481\n",
       "140620  Compound::DB01181  Disease::DOID:1612  0.699791      0.6998\n",
       "102945  Compound::DB00894  Disease::DOID:1612  0.648202      0.6482\n",
       "195009  Compound::DB06772  Disease::DOID:1612  0.642905      0.6429\n",
       "142675  Compound::DB01196  Disease::DOID:1612  0.569775      0.5698\n",
       "133770  Compound::DB01128  Disease::DOID:1612  0.544661      0.5447"
      ]
     },
     "execution_count": 41,
     "metadata": {},
     "output_type": "execute_result"
    }
   ],
   "source": [
    "# source 열의 값이 rows_list에 있는 행을 삭제\n",
    "df_sorted = df_sorted[~df_sorted['source'].isin(rows_list)]\n",
    "\n",
    "# label_prob 값이 큰 상위 10개의 행 출력\n",
    "top_10_rows = df_sorted.nlargest(10, 'label_prob')\n",
    "top_10_rows"
   ]
  },
  {
   "cell_type": "code",
   "execution_count": null,
   "metadata": {},
   "outputs": [
    {
     "data": {
      "text/html": [
       "<div>\n",
       "<style scoped>\n",
       "    .dataframe tbody tr th:only-of-type {\n",
       "        vertical-align: middle;\n",
       "    }\n",
       "\n",
       "    .dataframe tbody tr th {\n",
       "        vertical-align: top;\n",
       "    }\n",
       "\n",
       "    .dataframe thead th {\n",
       "        text-align: right;\n",
       "    }\n",
       "</style>\n",
       "<table border=\"1\" class=\"dataframe\">\n",
       "  <thead>\n",
       "    <tr style=\"text-align: right;\">\n",
       "      <th></th>\n",
       "      <th>source</th>\n",
       "      <th>target</th>\n",
       "      <th>label</th>\n",
       "      <th>label_prob</th>\n",
       "    </tr>\n",
       "  </thead>\n",
       "  <tbody>\n",
       "    <tr>\n",
       "      <th>82806</th>\n",
       "      <td>Hydrocortisone</td>\n",
       "      <td>breast cancer</td>\n",
       "      <td>0.989126</td>\n",
       "      <td>0.9891</td>\n",
       "    </tr>\n",
       "    <tr>\n",
       "      <th>87053</th>\n",
       "      <td>Etoposide</td>\n",
       "      <td>breast cancer</td>\n",
       "      <td>0.947384</td>\n",
       "      <td>0.9474</td>\n",
       "    </tr>\n",
       "    <tr>\n",
       "      <th>68421</th>\n",
       "      <td>Prednisone</td>\n",
       "      <td>breast cancer</td>\n",
       "      <td>0.874661</td>\n",
       "      <td>0.8747</td>\n",
       "    </tr>\n",
       "    <tr>\n",
       "      <th>112809</th>\n",
       "      <td>Dactinomycin</td>\n",
       "      <td>breast cancer</td>\n",
       "      <td>0.764458</td>\n",
       "      <td>0.7645</td>\n",
       "    </tr>\n",
       "    <tr>\n",
       "      <th>120892</th>\n",
       "      <td>Topotecan</td>\n",
       "      <td>breast cancer</td>\n",
       "      <td>0.748054</td>\n",
       "      <td>0.7481</td>\n",
       "    </tr>\n",
       "    <tr>\n",
       "      <th>140620</th>\n",
       "      <td>Ifosfamide</td>\n",
       "      <td>breast cancer</td>\n",
       "      <td>0.699791</td>\n",
       "      <td>0.6998</td>\n",
       "    </tr>\n",
       "    <tr>\n",
       "      <th>102945</th>\n",
       "      <td>Testolactone</td>\n",
       "      <td>breast cancer</td>\n",
       "      <td>0.648202</td>\n",
       "      <td>0.6482</td>\n",
       "    </tr>\n",
       "    <tr>\n",
       "      <th>195009</th>\n",
       "      <td>Cabazitaxel</td>\n",
       "      <td>breast cancer</td>\n",
       "      <td>0.642905</td>\n",
       "      <td>0.6429</td>\n",
       "    </tr>\n",
       "    <tr>\n",
       "      <th>142675</th>\n",
       "      <td>Estramustine</td>\n",
       "      <td>breast cancer</td>\n",
       "      <td>0.569775</td>\n",
       "      <td>0.5698</td>\n",
       "    </tr>\n",
       "    <tr>\n",
       "      <th>133770</th>\n",
       "      <td>Bicalutamide</td>\n",
       "      <td>breast cancer</td>\n",
       "      <td>0.544661</td>\n",
       "      <td>0.5447</td>\n",
       "    </tr>\n",
       "  </tbody>\n",
       "</table>\n",
       "</div>"
      ],
      "text/plain": [
       "                source         target     label  label_prob\n",
       "82806   Hydrocortisone  breast cancer  0.989126      0.9891\n",
       "87053        Etoposide  breast cancer  0.947384      0.9474\n",
       "68421       Prednisone  breast cancer  0.874661      0.8747\n",
       "112809    Dactinomycin  breast cancer  0.764458      0.7645\n",
       "120892       Topotecan  breast cancer  0.748054      0.7481\n",
       "140620      Ifosfamide  breast cancer  0.699791      0.6998\n",
       "102945    Testolactone  breast cancer  0.648202      0.6482\n",
       "195009     Cabazitaxel  breast cancer  0.642905      0.6429\n",
       "142675    Estramustine  breast cancer  0.569775      0.5698\n",
       "133770    Bicalutamide  breast cancer  0.544661      0.5447"
      ]
     },
     "execution_count": 42,
     "metadata": {},
     "output_type": "execute_result"
    }
   ],
   "source": [
    "top_10_rows['source'] = top_10_rows['source'].map(nodes.set_index('id')['name'])\n",
    "top_10_rows['target'] = 'breast cancer'\n",
    "top_10_rows"
   ]
  },
  {
   "cell_type": "code",
   "execution_count": null,
   "metadata": {},
   "outputs": [],
   "source": [
    "# # top_10_rows를 CSV 파일로 저장\n",
    "# top_10_rows.to_csv('xgboost_drug2.csv', index=False)"
   ]
  },
  {
   "cell_type": "markdown",
   "metadata": {},
   "source": [
    "# -> xg3 모델에 질병이 breast cancer인 input2를 넣었을 때, label이 1이라고 예측되는 결과에 정답 label이 1인 행을 제외하고 label_prob값이 높은 상위 10개를 출력함."
   ]
  },
  {
   "cell_type": "code",
   "execution_count": null,
   "metadata": {},
   "outputs": [],
   "source": [
    "# from sklearn.model_selection import train_test_split\n",
    "\n",
    "# X_train, X_test, y_train, y_test =\\\n",
    "#     train_test_split(input, compound_disease['label'], test_size=0.3, random_state=42, stratify=compound_disease['label'])\n",
    "\n",
    "# X_subtrain, X_val, y_subtrain, y_val =\\\n",
    "#     train_test_split(X_train, y_train, test_size=0.3, random_state=42)\n",
    "\n",
    "# from sklearn.svm import SVC\n",
    "\n",
    "# svm = SVC(class_weight='balanced', kernel='rbf', probability=True)  # kernel SVM\n",
    "# svm.fit(X_subtrain, y_subtrain)"
   ]
  },
  {
   "cell_type": "code",
   "execution_count": null,
   "metadata": {},
   "outputs": [],
   "source": [
    "# from sklearn.metrics import precision_score, recall_score, classification_report\n",
    "\n",
    "# y_proba = svm.predict_proba(X_test)[:, 1]\n",
    "\n",
    "# # 임계값을 조정\n",
    "# threshold = 0.3  # 임계값 설정\n",
    "# y_pred_adjusted = (y_proba > threshold).astype(int)\n",
    "\n",
    "# # 조정된 예측\n",
    "# print(classification_report(y_test, y_pred_adjusted))"
   ]
  },
  {
   "cell_type": "code",
   "execution_count": null,
   "metadata": {},
   "outputs": [],
   "source": [
    "# from sklearn.metrics import precision_score, recall_score, accuracy_score, classification_report\n",
    "\n",
    "# # Calculate accuracy\n",
    "# accuracy = accuracy_score(y_test, y_pred_adjusted)\n",
    "# print(accuracy)"
   ]
  },
  {
   "cell_type": "code",
   "execution_count": null,
   "metadata": {},
   "outputs": [],
   "source": [
    "# from sklearn.metrics import roc_curve, auc\n",
    "# import matplotlib.pyplot as plt\n",
    "\n",
    "# # Assuming you have already imported necessary libraries and executed the previous code\n",
    "\n",
    "# # Get the predicted probabilities for the positive class\n",
    "# y_proba = svm.predict_proba(X_test)[:, 1]\n",
    "\n",
    "# # Compute the ROC curve\n",
    "# fpr, tpr, thresholds = roc_curve(y_test, y_proba)\n",
    "\n",
    "# # Compute the area under the ROC curve (AUC)\n",
    "# roc_auc = auc(fpr, tpr)\n",
    "\n",
    "# # Plot the ROC curve\n",
    "# plt.figure(figsize=(8, 8))\n",
    "# plt.plot(fpr, tpr, color='blue', lw=2, label=f'AUC = {roc_auc:.2f}')\n",
    "# plt.plot([0, 1], [0, 1], color='gray', lw=2, linestyle='--')\n",
    "# plt.xlabel('False Positive Rate')\n",
    "# plt.ylabel('True Positive Rate')\n",
    "# plt.title('Receiver Operating Characteristic (ROC) Curve')\n",
    "# plt.legend(loc='lower right')\n",
    "# plt.show()\n"
   ]
  },
  {
   "cell_type": "code",
   "execution_count": null,
   "metadata": {},
   "outputs": [],
   "source": [
    "# #Disease::DOID:1612 = breast cancer\n",
    "# import numpy as np\n",
    "# input2 = []\n",
    "# ddf = pd.DataFrame(columns=['compound', 'disease', 'label'])\n",
    "# for data in compound_disease_label:\n",
    "#     if data[1]=='Disease::DOID:1612': \n",
    "#         input2.append(np.vstack([model.wv[data[0]], model.wv['Disease::DOID:1612']]).reshape(120,))\n",
    "#         ddf = pd.concat([ddf, pd.DataFrame({'compound': [data[0]], 'disease': ['Disease::DOID:1612'], 'label': 0})], ignore_index=True)\n",
    "\n",
    "# threshold = 0.3        \n",
    "# prediction = ((svm.predict_proba(input2)[:, 1]) > threshold).astype(int)\n",
    "\n",
    "# df = compound_disease[compound_disease['target'] == 'Disease::DOID:1612']\n",
    "# df['label'] = prediction\n",
    "\n",
    "# # 예측한 결과, 'label' 열 값이 1인 행 출력\n",
    "# selected_rows = df[df['label'] == 1]\n",
    "\n",
    "# # 정답 label이 1인 conpound 출력\n",
    "# rows = connected_compound_disease[connected_compound_disease['target']=='Disease::DOID:1612']\n",
    "# rows_list = rows['source'].tolist()\n",
    "\n",
    "# compound_list = []\n",
    "# for i in selected_rows['source']:\n",
    "#     if i not in rows_list:\n",
    "#         compound_list.append(i)\n",
    "\n",
    "# #에측결과에서 실제결과 값을 제외한 결과\n",
    "# nodes[nodes['id'].isin(compound_list)]"
   ]
  },
  {
   "cell_type": "code",
   "execution_count": null,
   "metadata": {},
   "outputs": [],
   "source": [
    "# # 테스트 세트에 대한 예측 확률 얻기\n",
    "# y_probabilities = svm.predict_proba(input2)[:, 1]  # 1에 대한 예측 확률을 얻습니다.\n",
    "\n",
    "# # 'label_prob' 열에 예측 확률 추가\n",
    "# df['label_prob'] = y_probabilities.round(4)\n",
    "\n",
    "# # label_prob를 기준으로 데이터프레임 정렬\n",
    "# df_sorted = df.sort_values(by='label_prob', ascending=False)\n",
    "\n",
    "# df_sorted"
   ]
  },
  {
   "cell_type": "code",
   "execution_count": null,
   "metadata": {},
   "outputs": [],
   "source": [
    "# # source 열의 값이 rows_list에 있는 행을 삭제\n",
    "# df_sorted = df_sorted[~df_sorted['source'].isin(rows_list)]\n",
    "\n",
    "# # label_prob 값이 큰 상위 10개의 행 출력\n",
    "# top_10_rows = df_sorted.nlargest(10, 'label_prob')\n",
    "# top_10_rows"
   ]
  },
  {
   "cell_type": "code",
   "execution_count": null,
   "metadata": {},
   "outputs": [],
   "source": [
    "# top_10_rows['source'] = top_10_rows['source'].map(nodes.set_index('id')['name'])\n",
    "# top_10_rows['target'] = 'breast cancer'\n",
    "# top_10_rows"
   ]
  },
  {
   "cell_type": "code",
   "execution_count": null,
   "metadata": {},
   "outputs": [],
   "source": [
    "# # top_10_rows를 CSV 파일로 저장\n",
    "# top_10_rows.to_csv('svm_drug.csv', index=False)"
   ]
  },
  {
   "cell_type": "code",
   "execution_count": null,
   "metadata": {},
   "outputs": [],
   "source": [
    "# from sklearn.model_selection import train_test_split\n",
    "# from sklearn.svm import SVC\n",
    "# from sklearn.metrics import precision_score, recall_score, classification_report\n",
    "# from imblearn.over_sampling import RandomOverSampler\n",
    "# from imblearn.pipeline import make_pipeline\n",
    "\n",
    "# # Assuming you have input and compound_disease['label'] defined\n",
    "\n",
    "# # Split the data into training and testing sets\n",
    "# X_train, X_test, y_train, y_test = train_test_split(\n",
    "#     input, compound_disease['label'], test_size=0.3, random_state=42, stratify=compound_disease['label']\n",
    "# )\n",
    "\n",
    "# # Split the training data into subtrain and validation sets\n",
    "# X_subtrain, X_val, y_subtrain, y_val = train_test_split(\n",
    "#     X_train, y_train, test_size=0.3, random_state=42\n",
    "# )\n",
    "\n",
    "# # Create a pipeline with oversampling and SVM\n",
    "# pipeline = make_pipeline(RandomOverSampler(random_state=42), SVC(class_weight='balanced', kernel='rbf', probability=True))\n",
    "\n",
    "# # Fit the model on the training data with oversampling\n",
    "# pipeline.fit(X_subtrain, y_subtrain)\n",
    "\n",
    "# # Get the predicted probabilities on the test set\n",
    "# y_proba = pipeline.predict_proba(X_test)[:, 1]\n",
    "\n",
    "# # Adjust the threshold\n",
    "# threshold = 0.3\n",
    "# y_pred_adjusted = (y_proba > threshold).astype(int)\n",
    "\n",
    "# # Display the classification report\n",
    "# print(classification_report(y_test, y_pred_adjusted))"
   ]
  },
  {
   "cell_type": "code",
   "execution_count": null,
   "metadata": {},
   "outputs": [],
   "source": [
    "# from sklearn.metrics import roc_curve, auc\n",
    "# import matplotlib.pyplot as plt\n",
    "\n",
    "# # Compute the ROC curve\n",
    "# fpr, tpr, thresholds = roc_curve(y_test, y_proba)\n",
    "\n",
    "# # Compute the area under the ROC curve (AUC)\n",
    "# roc_auc = auc(fpr, tpr)\n",
    "\n",
    "# # Plot the ROC curve\n",
    "# plt.figure(figsize=(8, 8))\n",
    "# plt.plot(fpr, tpr, color='blue', lw=2, label=f'AUC = {roc_auc:.2f}')\n",
    "# plt.plot([0, 1], [0, 1], color='gray', lw=2, linestyle='--')\n",
    "# plt.xlabel('False Positive Rate')\n",
    "# plt.ylabel('True Positive Rate')\n",
    "# plt.title('Receiver Operating Characteristic (ROC) Curve')\n",
    "# plt.legend(loc='lower right')\n",
    "# plt.show()"
   ]
  },
  {
   "cell_type": "code",
   "execution_count": null,
   "metadata": {},
   "outputs": [],
   "source": [
    "# #Disease::DOID:1612 = breast cancer\n",
    "# import numpy as np\n",
    "# input2 = []\n",
    "# ddf = pd.DataFrame(columns=['compound', 'disease', 'label'])\n",
    "# for data in compound_disease_label:\n",
    "#     if data[1]=='Disease::DOID:1612': \n",
    "#         input2.append(np.vstack([model.wv[data[0]], model.wv['Disease::DOID:1612']]).reshape(120,))\n",
    "#         ddf = pd.concat([ddf, pd.DataFrame({'compound': [data[0]], 'disease': ['Disease::DOID:1612'], 'label': 0})], ignore_index=True)\n",
    "\n",
    "# threshold = 0.3        \n",
    "# prediction = ((svm.predict_proba(input2)[:, 1]) > threshold).astype(int)\n",
    "\n",
    "# df = compound_disease[compound_disease['target'] == 'Disease::DOID:1612']\n",
    "# df['label'] = prediction\n",
    "\n",
    "# # 예측한 결과, 'label' 열 값이 1인 행 출력\n",
    "# selected_rows = df[df['label'] == 1]\n",
    "\n",
    "# # 정답 label이 1인 conpound 출력\n",
    "# rows = connected_compound_disease[connected_compound_disease['target']=='Disease::DOID:1612']\n",
    "# rows_list = rows['source'].tolist()\n",
    "\n",
    "# compound_list = []\n",
    "# for i in selected_rows['source']:\n",
    "#     if i not in rows_list:\n",
    "#         compound_list.append(i)\n",
    "\n",
    "# #에측결과에서 실제결과 값을 제외한 결과\n",
    "# nodes[nodes['id'].isin(compound_list)]"
   ]
  },
  {
   "cell_type": "code",
   "execution_count": null,
   "metadata": {},
   "outputs": [],
   "source": [
    "# # 테스트 세트에 대한 예측 확률 얻기\n",
    "# y_probabilities = svm.predict_proba(input2)[:, 1]  # 1에 대한 예측 확률을 얻습니다.\n",
    "\n",
    "# # 'label_prob' 열에 예측 확률 추가\n",
    "# df['label_prob'] = y_probabilities.round(4)\n",
    "\n",
    "# # label_prob를 기준으로 데이터프레임 정렬\n",
    "# df_sorted = df.sort_values(by='label_prob', ascending=False)\n",
    "\n",
    "# df_sorted"
   ]
  },
  {
   "cell_type": "code",
   "execution_count": null,
   "metadata": {},
   "outputs": [],
   "source": [
    "# # source 열의 값이 rows_list에 있는 행을 삭제\n",
    "# df_sorted = df_sorted[~df_sorted['source'].isin(rows_list)]\n",
    "\n",
    "# # label_prob 값이 큰 상위 10개의 행 출력\n",
    "# top_10_rows = df_sorted.nlargest(10, 'label_prob')\n",
    "# top_10_rows"
   ]
  }
 ],
 "metadata": {
  "kernelspec": {
   "display_name": "myenv",
   "language": "python",
   "name": "myenv"
  },
  "language_info": {
   "codemirror_mode": {
    "name": "ipython",
    "version": 3
   },
   "file_extension": ".py",
   "mimetype": "text/x-python",
   "name": "python",
   "nbconvert_exporter": "python",
   "pygments_lexer": "ipython3",
   "version": "3.10.9"
  }
 },
 "nbformat": 4,
 "nbformat_minor": 2
}
